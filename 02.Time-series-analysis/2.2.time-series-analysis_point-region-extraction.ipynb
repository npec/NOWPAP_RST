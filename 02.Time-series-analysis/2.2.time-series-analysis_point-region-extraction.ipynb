{
 "cells": [
  {
   "cell_type": "markdown",
   "id": "5e8631b7",
   "metadata": {
    "slideshow": {
     "slide_type": "slide"
    }
   },
   "source": [
    "<img src=\"../images/5thNRST_logo.png\" alt=\"NOWPAP\" width=\"900\" height=\"700\">\n",
    "\n",
    "## NOWPAP REMOTE SENSING TRAINING COURSE   \n",
    "#### Webinar 2: Monitoring and Assessment of Water Quality by Ocean Color Remote Sensing\n",
    "<span style=\"color:brown; font-size:1.1em;font-style:italic\">Time series analysis: data download</span>\n",
    "\n",
    "<hr style=\"border:2px solid rgb(30,70,125)\"> </hr>\n",
    "\n",
    "<span style=\"font-family:Helvieta; font-size:2em;\">Genki Terauchi and Eligio Maure </span>\n",
    "\n",
    "<span style=\"font-family:Helvieta; font-size:1em;\">Please contact terauchi@npec.or.jp for inquiries. </span>"
   ]
  },
  {
   "cell_type": "markdown",
   "id": "6213e392",
   "metadata": {
    "slideshow": {
     "slide_type": "subslide"
    }
   },
   "source": [
    "***\n",
    "**Note 1**: Execute each cell through the <button class=\"btn btn-default btn-xs\"><i class=\"icon-play fa fa-play\"></i></button> button from the top MENU (or keyboard shortcut `Shift` + `Enter`).<br>\n",
    "<br>\n",
    "**Note 2**: If, for any reason, the kernel is not working anymore, in the top MENU, click on the <button class=\"btn btn-default btn-xs\"><i class=\"fa fa-repeat icon-repeat\"></i></button> button. Then, in the top MENU, click on \"Cell\" and select \"Run All Above Selected Cell\".<br>\n",
    "***"
   ]
  },
  {
   "cell_type": "markdown",
   "id": "357bedc8",
   "metadata": {
    "slideshow": {
     "slide_type": "slide"
    }
   },
   "source": [
    "# Table of contents\n",
    "- [1. Purpose](#1.-Purpose)\n",
    "- [2. Library import](#2.-Library-import)\n",
    "- [3. Define parameters](#3.-Define-parameters)\n",
    "- [4. Point extract](#4.-Point-extract)\n",
    "- [5. Region extract](#5.-Region-extract)\n",
    "- [6. Resources](#6.-Resources)\n",
    "***"
   ]
  },
  {
   "cell_type": "markdown",
   "id": "855dd9f5",
   "metadata": {
    "slideshow": {
     "slide_type": "slide"
    }
   },
   "source": [
    "# 1. Purpose\n",
    "[Return to the \"Table of contents\"](#Table-of-contents)\n",
    "\n",
    "The objective of this exercise is to learn how to extract the mean of a point or region from a series of satellite images.  \n",
    "The images used are obtained from the [Marine Environmental Watch](https://ocean.nowpap3.go.jp/?page_id=862) of Northwest Pacific Action Plan (NOWPAP).\n",
    "\n",
    "***"
   ]
  },
  {
   "cell_type": "markdown",
   "id": "faa21d18",
   "metadata": {
    "slideshow": {
     "slide_type": "slide"
    }
   },
   "source": [
    "# 2. Library import\n",
    "[Return to the \"Table of contents\"](#Table-of-contents)"
   ]
  },
  {
   "cell_type": "code",
   "execution_count": null,
   "id": "89f10c9d",
   "metadata": {
    "tags": []
   },
   "outputs": [],
   "source": [
    "# Data manipulation\n",
    "import pandas as pd\n",
    "import numpy as np\n",
    "\n",
    "# System\n",
    "import sys\n",
    "from pathlib import Path\n",
    "\n",
    "# Visualization\n",
    "import matplotlib.pyplot as plt\n",
    "\n",
    "import warnings\n",
    "warnings.filterwarnings('ignore')\n",
    "%matplotlib inline"
   ]
  },
  {
   "cell_type": "code",
   "execution_count": null,
   "id": "9dcafdf4",
   "metadata": {
    "tags": []
   },
   "outputs": [],
   "source": [
    "sys.path.append(str(Path('.').absolute().parent)) \n",
    "import sutilsx as util\n",
    "util.mpl_custom(mpl=plt)"
   ]
  },
  {
   "cell_type": "markdown",
   "id": "1f2625ed",
   "metadata": {
    "slideshow": {
     "slide_type": "slide"
    }
   },
   "source": [
    "# 3. Define parameters\n",
    "[Return to the \"Table of contents\"](#Table-of-contents)"
   ]
  },
  {
   "cell_type": "code",
   "execution_count": null,
   "id": "4c9ecb1d",
   "metadata": {
    "tags": []
   },
   "outputs": [],
   "source": [
    "VAR = 'chlor_a'    # variable name \n",
    "\n",
    "INTPUT_DIR = Path('.').absolute().joinpath(r'data/SGLI/month')\n",
    "OUTPUT_DIR = Path('.').absolute().joinpath(r'data/SGLI/month')\n",
    "\n",
    "INPUT_FILES = list(INTPUT_DIR.glob('GS2020*.nc'))"
   ]
  },
  {
   "cell_type": "markdown",
   "id": "5464191d",
   "metadata": {
    "slideshow": {
     "slide_type": "slide"
    }
   },
   "source": [
    "# 4. Point extract\n",
    "[Return to the \"Table of contents\"](#Table-of-contents)\n",
    "- Get annual time series from a point "
   ]
  },
  {
   "cell_type": "code",
   "execution_count": null,
   "id": "014ea085",
   "metadata": {
    "tags": []
   },
   "outputs": [],
   "source": [
    "#Specifing geolocation point to extract data and area around the point\n",
    "#%%time\n",
    "point = {'lon': [137.253], 'lat': [36.793]} # geolocation\n",
    "window = 5 # pixel around the centre point, extract window\n",
    "save_to = OUTPUT_DIR.joinpath('point_timeseries.txt')\n",
    "\n",
    "util.pyextract(bbox=point, window=window, filename=save_to, file_list=INPUT_FILES)"
   ]
  },
  {
   "cell_type": "code",
   "execution_count": null,
   "id": "dd62dc40",
   "metadata": {
    "slideshow": {
     "slide_type": "slide"
    },
    "tags": []
   },
   "outputs": [],
   "source": [
    "#Reading created csv file from previous cell\n",
    "df = pd.read_csv(save_to)\n",
    "df.head()"
   ]
  },
  {
   "cell_type": "code",
   "execution_count": null,
   "id": "6c152702",
   "metadata": {
    "slideshow": {
     "slide_type": "slide"
    },
    "tags": []
   },
   "outputs": [],
   "source": [
    "# Allocating areas to display graphs with matplotlib\n",
    "fig, ax = plt.subplots(1,2, figsize=(20,8))\n",
    "\n",
    "#Read the created csv file and plot median value\n",
    "df['date'] = pd.to_datetime(df['time_start'])\n",
    "df.plot(x='date', y='median', ax=ax[0])\n",
    "\n",
    "#Display the area of interest with the point\n",
    "util.add2map(file=INPUT_FILES[0], point=point, ax=ax[1])"
   ]
  },
  {
   "cell_type": "markdown",
   "id": "6b623497",
   "metadata": {
    "slideshow": {
     "slide_type": "slide"
    }
   },
   "source": [
    "# 5. Region extract\n",
    "[Return to the \"Table of contents\"](#Table-of-contents)\n",
    "- Define a box in Toyama Bay and try to get the time series "
   ]
  },
  {
   "cell_type": "code",
   "execution_count": null,
   "id": "3dba5eae",
   "metadata": {
    "tags": []
   },
   "outputs": [],
   "source": [
    "#Specifing geolocation area by coordinates to extract data and save the result in csv file\n",
    "#%%time\n",
    "fig, ax = plt.subplots(1,2, figsize=(20,8))\n",
    "\n",
    "bbox = {'lon': [137.15, 137.35], 'lat': [36.8, 36.95]} # geolocation\n",
    "save_to = OUTPUT_DIR.joinpath('region_timeseries.txt')\n",
    "util.pyextract(bbox=bbox, filename=save_to, file_list=INPUT_FILES)\n",
    "\n",
    "#Read the created csv file and plot median value\n",
    "df = pd.read_csv(save_to)\n",
    "df['date'] = pd.to_datetime(df['time_start'])\n",
    "df.plot(x='date', y='median', ax=ax[0])\n",
    "\n",
    "#Display the area of interest with the region\n",
    "util.add2map(file=INPUT_FILES[0], region=bbox, ax=ax[1])"
   ]
  },
  {
   "cell_type": "markdown",
   "id": "99cfb38a",
   "metadata": {
    "slideshow": {
     "slide_type": "slide"
    }
   },
   "source": [
    "<div class=\"alert alert-block alert-success\"/div>\n",
    "    <b>Done!</b><br>\n",
    "  \n",
    "--- \n",
    "\n",
    "#### And thank you for your attention! :)\n",
    "    We hope you enjoyed the training provided by NOWPAP CEARAC."
   ]
  },
  {
   "cell_type": "markdown",
   "id": "a0588868",
   "metadata": {
    "slideshow": {
     "slide_type": "slide"
    }
   },
   "source": [
    "# 5. Resources\n",
    "[Go back to the \"Table of contents\"](#Table-of-contents)\n",
    "1. https://matplotlib.org/stable/tutorials/advanced/path_tutorial.html\n",
    "2. https://pandas.pydata.org/pandas-docs/stable/reference/api/pandas.to_datetime.html\n",
    "4. https://ocean.nowpap3.go.jp/?page_id=862\n",
    "5. https://github.com/npec/NOWPAP_RST/"
   ]
  }
 ],
 "metadata": {
  "celltoolbar": "Slideshow",
  "kernelspec": {
   "display_name": "Python 3 (ipykernel)",
   "language": "python",
   "name": "python3"
  },
  "language_info": {
   "codemirror_mode": {
    "name": "ipython",
    "version": 3
   },
   "file_extension": ".py",
   "mimetype": "text/x-python",
   "name": "python",
   "nbconvert_exporter": "python",
   "pygments_lexer": "ipython3",
   "version": "3.9.16"
  }
 },
 "nbformat": 4,
 "nbformat_minor": 5
}
