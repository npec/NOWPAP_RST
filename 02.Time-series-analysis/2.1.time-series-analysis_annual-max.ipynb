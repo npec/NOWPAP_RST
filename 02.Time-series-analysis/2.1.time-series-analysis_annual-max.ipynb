{
 "cells": [
  {
   "cell_type": "markdown",
   "id": "5e8631b7",
   "metadata": {
    "slideshow": {
     "slide_type": "slide"
    }
   },
   "source": [
    "<img src=\"../images/5thNRST_logo.png\" alt=\"NOWPAP\" width=\"900\" height=\"700\">\n",
    "\n",
    "## NOWPAP REMOTE SENSING TRAINING COURSE   \n",
    "#### Webinar 2: Monitoring and Assessment of Water Quality by Ocean Color Remote Sensing\n",
    "<span style=\"color:brown; font-size:1.1em;font-style:italic\">Time series analysis: data download</span>\n",
    "\n",
    "<hr style=\"border:2px solid rgb(30,70,125)\"> </hr>\n",
    "\n",
    "<span style=\"font-family:Helvieta; font-size:2em;\">Genki Terauchi and Eligio Maure </span>\n",
    "\n",
    "<span style=\"font-family:Helvieta; font-size:1em;\">Please contact terauchi@npec.or.jp for inquiries. </span>"
   ]
  },
  {
   "cell_type": "markdown",
   "id": "6213e392",
   "metadata": {
    "slideshow": {
     "slide_type": "subslide"
    }
   },
   "source": [
    "***\n",
    "**Note 1**: Execute each cell through the <button class=\"btn btn-default btn-xs\"><i class=\"icon-play fa fa-play\"></i></button> button from the top MENU (or keyboard shortcut `Shift` + `Enter`).<br>\n",
    "<br>\n",
    "**Note 2**: If, for any reason, the kernel is not working anymore, in the top MENU, click on the <button class=\"btn btn-default btn-xs\"><i class=\"fa fa-repeat icon-repeat\"></i></button> button. Then, in the top MENU, click on \"Cell\" and select \"Run All Above Selected Cell\".<br>\n",
    "***"
   ]
  },
  {
   "cell_type": "markdown",
   "id": "357bedc8",
   "metadata": {
    "slideshow": {
     "slide_type": "slide"
    }
   },
   "source": [
    "# Table of contents\n",
    "- [1. Purpose](#1.-Purpose)\n",
    "- [2. Library import](#2.-Library-import)\n",
    "- [3. Define parameters](#3.-Define-parameters)\n",
    "- [4. Annual Max](#4.-Annual-Max)\n",
    "- [5. Annual Min](#5.-Annual-Min)\n",
    "- [6. Resources](#6.-Resources)\n",
    "***"
   ]
  },
  {
   "cell_type": "markdown",
   "id": "855dd9f5",
   "metadata": {
    "slideshow": {
     "slide_type": "slide"
    }
   },
   "source": [
    "# 1. Purpose\n",
    "[Return to the \"Table of contents\"](#Table-of-contents)\n",
    "\n",
    "The objective of this exercise is to learn how to extract annual min/max from a series of satellite images.  \n",
    "The images used are obtained from the [Marine Environmental Watch](https://ocean.nowpap3.go.jp/?page_id=862) of Northwest Pacific Action Plan (NOWPAP).\n",
    "\n",
    "You will learn how to use [NumPy](https://numpy.org/) to extract annual min/max and the time when it occurs.\n",
    "***"
   ]
  },
  {
   "cell_type": "markdown",
   "id": "faa21d18",
   "metadata": {
    "slideshow": {
     "slide_type": "slide"
    }
   },
   "source": [
    "# 2. Library import\n",
    "[Return to the \"Table of contents\"](#Table-of-contents)"
   ]
  },
  {
   "cell_type": "code",
   "execution_count": null,
   "id": "89f10c9d",
   "metadata": {
    "tags": []
   },
   "outputs": [],
   "source": [
    "# Data manipulation\n",
    "import numpy as np\n",
    "from netCDF4 import Dataset, num2date\n",
    "\n",
    "# System\n",
    "import sys\n",
    "from pathlib import Path\n",
    "\n",
    "# Visualization\n",
    "import matplotlib.pyplot as plt\n",
    "from matplotlib import ticker, colors\n",
    "\n",
    "import warnings\n",
    "warnings.filterwarnings('ignore')\n",
    "%matplotlib inline"
   ]
  },
  {
   "cell_type": "code",
   "execution_count": null,
   "id": "9dcafdf4",
   "metadata": {
    "tags": []
   },
   "outputs": [],
   "source": [
    "sys.path.append(str(Path('.').absolute().parent)) \n",
    "import sutilsx as util\n",
    "\n",
    "util.mpl_custom(mpl=plt)"
   ]
  },
  {
   "cell_type": "markdown",
   "id": "1f2625ed",
   "metadata": {
    "slideshow": {
     "slide_type": "slide"
    }
   },
   "source": [
    "# 3. Define parameters\n",
    "[Return to the \"Table of contents\"](#Table-of-contents)"
   ]
  },
  {
   "cell_type": "code",
   "execution_count": null,
   "id": "4c9ecb1d",
   "metadata": {
    "tags": []
   },
   "outputs": [],
   "source": [
    "#Specifing variable and workinging directories\n",
    "VAR = 'chlor_a'    # variable name \n",
    "\n",
    "INTPUT_DIR = Path('.').absolute().joinpath(r'data/SGLI/month')\n",
    "OUTPUT_DIR = Path('.').absolute().joinpath(r'data/SGLI/month')\n",
    "\n",
    "INPUT_FILES = list(INTPUT_DIR.glob('GS2020*.nc'))"
   ]
  },
  {
   "cell_type": "markdown",
   "id": "5464191d",
   "metadata": {
    "slideshow": {
     "slide_type": "slide"
    }
   },
   "source": [
    "# 4. Annual Max\n",
    "[Return to the \"Table of contents\"](#Table-of-contents)\n",
    "- Get annual max and display the time of max"
   ]
  },
  {
   "cell_type": "code",
   "execution_count": null,
   "id": "f03260b0",
   "metadata": {
    "tags": []
   },
   "outputs": [],
   "source": [
    "#amax is chlor-a value of anual maxium and dmax is date of anual maxium value appears in julian date\n",
    "amax, dmax = util.get_min_max(\n",
    "    files=INPUT_FILES\n",
    "    , varname='chlor_a'\n",
    "    , case='max')"
   ]
  },
  {
   "cell_type": "code",
   "execution_count": null,
   "id": "67e46baf",
   "metadata": {
    "slideshow": {
     "slide_type": "subslide"
    },
    "tags": []
   },
   "outputs": [],
   "source": [
    "# Allocating areas to display graphs with matplotlib\n",
    "fig, ax = plt.subplots(1,2, figsize=(20,8), sharey=True)\n",
    "\n",
    "with Dataset(INPUT_FILES[0], 'r') as nc:\n",
    "    lat = nc['lat'][:]\n",
    "    lon = nc['lon'][:]\n",
    "\n",
    "# LogNorm for chlorophyll data\n",
    "m1 = ax[0].pcolormesh(lon, lat, amax, cmap='jet', norm=colors.LogNorm(vmin=0.01, vmax=30))\n",
    "\n",
    "# linear scale for count data\n",
    "levels = ticker.MaxNLocator(nbins=25).tick_values(dmax.min(), dmax.max())\n",
    "norm = colors.BoundaryNorm(boundaries=levels, ncolors=levels.size, clip=True)\n",
    "m2 = ax[1].pcolormesh(lon, lat, dmax, cmap='tab20c', norm=norm)\n",
    "\n",
    "plt.colorbar(m1, ax=ax[0], orientation='vertical')\n",
    "plt.colorbar(m2, ax=ax[1], orientation='vertical')"
   ]
  },
  {
   "cell_type": "markdown",
   "id": "6b623497",
   "metadata": {
    "slideshow": {
     "slide_type": "slide"
    }
   },
   "source": [
    "# 5. Annual Min\n",
    "[Return to the \"Table of contents\"](#Table-of-contents)\n",
    "- Get annual max and display the time of max"
   ]
  },
  {
   "cell_type": "code",
   "execution_count": null,
   "id": "3dba5eae",
   "metadata": {
    "tags": []
   },
   "outputs": [],
   "source": [
    "#amin is chlor-a value of anual minimum and dmin is date of anual minimum value appears in julian date\n",
    "amin, dmin = util.get_min_max(\n",
    "    files=INPUT_FILES\n",
    "    , varname='chlor_a'\n",
    "    , case='min')"
   ]
  },
  {
   "cell_type": "code",
   "execution_count": null,
   "id": "c5c58121",
   "metadata": {
    "slideshow": {
     "slide_type": "subslide"
    },
    "tags": []
   },
   "outputs": [],
   "source": [
    "# Allocated areas to display graphs with matplotlib\n",
    "fig, ax = plt.subplots(1,2, figsize=(20,8), sharey=True)\n",
    "\n",
    "# LogNorm for chlorophyll data\n",
    "m1 = ax[0].pcolormesh(lon, lat, amin\n",
    "                      , cmap='jet', norm=colors.LogNorm(vmin=0.01, vmax=30))\n",
    "\n",
    "# linear scale for count data\n",
    "levels = ticker.MaxNLocator(nbins=25).tick_values(dmin.min(), dmin.max())\n",
    "norm = colors.BoundaryNorm(boundaries=levels, ncolors=levels.size, clip=True)\n",
    "m2 = ax[1].pcolormesh(lon, lat, dmin, cmap='tab20c', norm=norm)\n",
    "\n",
    "plt.colorbar(m1, ax=ax[0], orientation='vertical')\n",
    "plt.colorbar(m2, ax=ax[1], orientation='vertical')"
   ]
  },
  {
   "cell_type": "markdown",
   "id": "99cfb38a",
   "metadata": {
    "slideshow": {
     "slide_type": "slide"
    }
   },
   "source": [
    "<div class=\"alert alert-block alert-success\"/div>\n",
    "    <b>Done!</b><br>\n",
    "  \n",
    "--- \n",
    "\n",
    "#### And thank you for your attention! :) \n",
    "    Now try the same exercise with other years or sensors, etc.\n",
    "    We hope you enjoyed the training provided by NOWPAP CEARAC."
   ]
  },
  {
   "cell_type": "markdown",
   "id": "a0588868",
   "metadata": {
    "slideshow": {
     "slide_type": "slide"
    }
   },
   "source": [
    "# 5. Resources\n",
    "[Go back to the \"Table of contents\"](#Table-of-contents)\n",
    "1. https://numpy.org/doc/stable/reference/generated/numpy.amax.html\n",
    "2. https://matplotlib.org/\n",
    "4. https://ocean.nowpap3.go.jp/?page_id=862\n",
    "5. https://github.com/npec/NOWPAP_RST/"
   ]
  },
  {
   "cell_type": "code",
   "execution_count": null,
   "id": "5dbbd63d-a0ec-483a-8a9c-aa265ebff8ca",
   "metadata": {},
   "outputs": [],
   "source": []
  }
 ],
 "metadata": {
  "celltoolbar": "Slideshow",
  "kernelspec": {
   "display_name": "Python 3 (ipykernel)",
   "language": "python",
   "name": "python3"
  },
  "language_info": {
   "codemirror_mode": {
    "name": "ipython",
    "version": 3
   },
   "file_extension": ".py",
   "mimetype": "text/x-python",
   "name": "python",
   "nbconvert_exporter": "python",
   "pygments_lexer": "ipython3",
   "version": "3.9.16"
  }
 },
 "nbformat": 4,
 "nbformat_minor": 5
}
