{
 "cells": [
  {
   "cell_type": "markdown",
   "id": "5e8631b7",
   "metadata": {
    "slideshow": {
     "slide_type": "slide"
    }
   },
   "source": [
    "<img src=\"../images/5thNRST_logo.png\" alt=\"NOWPAP\" width=\"900\" height=\"700\">\n",
    "\n",
    "## NOWPAP REMOTE SENSING TRAINING COURSE   \n",
    "#### Webinar 2: Monitoring and Assessment of Water Quality by Ocean Color Remote Sensing\n",
    "<span style=\"color:brown; font-size:1.1em;font-style:italic\">Time series analysis: data download</span>\n",
    "\n",
    "<hr style=\"border:2px solid rgb(30,70,125)\"> </hr>\n",
    "\n",
    "<span style=\"font-family:Helvieta; font-size:2em;\">Genki Terauchi and Eligio Maure </span>\n",
    "\n",
    "<span style=\"font-family:Helvieta; font-size:1em;\">Please contact terauchi@npec.or.jp for inquiries. </span>"
   ]
  },
  {
   "cell_type": "markdown",
   "id": "6213e392",
   "metadata": {
    "slideshow": {
     "slide_type": "subslide"
    }
   },
   "source": [
    "***\n",
    "**Note 1**: Execute each cell through the <button class=\"btn btn-default btn-xs\"><i class=\"icon-play fa fa-play\"></i></button> button from the top MENU (or keyboard shortcut `Shift` + `Enter`).<br>\n",
    "<br>\n",
    "**Note 2**: If, for any reason, the kernel is not working anymore, in the top MENU, click on the <button class=\"btn btn-default btn-xs\"><i class=\"fa fa-repeat icon-repeat\"></i></button> button. Then, in the top MENU, click on \"Cell\" and select \"Run All Above Selected Cell\".<br>\n",
    "***"
   ]
  },
  {
   "cell_type": "markdown",
   "id": "357bedc8",
   "metadata": {
    "slideshow": {
     "slide_type": "slide"
    }
   },
   "source": [
    "# Table of contents\n",
    "- [1. Purpose](#1.-Purpose)\n",
    "- [2. Library import](#2.-Library-import)\n",
    "- [3. Define parameters](#3.-Define-parameters)\n",
    "- [4. Trend detection](#4.-Trend-detection)\n",
    "- [6. Resources](#6.-Resources)\n",
    "***"
   ]
  },
  {
   "cell_type": "markdown",
   "id": "855dd9f5",
   "metadata": {
    "slideshow": {
     "slide_type": "slide"
    }
   },
   "source": [
    "# 1. Purpose\n",
    "[Return to the \"Table of contents\"](#Table-of-contents)\n",
    "\n",
    "The objective of this exercise is to learn how to extract the mean of a point or region from a series of satellite images.  \n",
    "The images used are obtained from the [Marine Environmental Watch](https://ocean.nowpap3.go.jp/?page_id=862) of Northwest Pacific Action Plan (NOWPAP).\n",
    "\n",
    "***"
   ]
  },
  {
   "cell_type": "markdown",
   "id": "faa21d18",
   "metadata": {
    "slideshow": {
     "slide_type": "slide"
    }
   },
   "source": [
    "# 2. Library import\n",
    "[Return to the \"Table of contents\"](#Table-of-contents)"
   ]
  },
  {
   "cell_type": "code",
   "execution_count": 1,
   "id": "89f10c9d",
   "metadata": {},
   "outputs": [
    {
     "name": "stderr",
     "output_type": "stream",
     "text": [
      "UsageError: unrecognized arguments: #For displaying images in jyputer notebook\n"
     ]
    }
   ],
   "source": [
    "# Data manipulation\n",
    "import pandas as pd\n",
    "import numpy as np\n",
    "from scipy import stats\n",
    "from datetime import datetime\n",
    "\n",
    "# System\n",
    "import sys\n",
    "from pathlib import Path\n",
    "\n",
    "# Visualization\n",
    "import matplotlib.pyplot as plt\n",
    "from matplotlib import colors, ticker\n",
    "\n",
    "import warnings #Import library to control warning messages\n",
    "warnings.filterwarnings('ignore') #Import library to control warning messages\n",
    "%matplotlib inline #For displaying images in jyputer notebook"
   ]
  },
  {
   "cell_type": "code",
   "execution_count": 2,
   "id": "9dcafdf4",
   "metadata": {},
   "outputs": [],
   "source": [
    "sys.path.append(str(Path('.').absolute().parent)) ##Get current path location\n",
    "import sutilsx as util #Import NPEC prepared utilities to process and analyze images\n",
    "\n",
    "util.mpl_custom(mpl=plt) #To let util to specify object for matplib "
   ]
  },
  {
   "cell_type": "markdown",
   "id": "1f2625ed",
   "metadata": {
    "slideshow": {
     "slide_type": "slide"
    }
   },
   "source": [
    "# 3. Define parameters\n",
    "[Return to the \"Table of contents\"](#Table-of-contents)"
   ]
  },
  {
   "cell_type": "code",
   "execution_count": 3,
   "id": "4c9ecb1d",
   "metadata": {},
   "outputs": [],
   "source": [
    "# INTPUT_DIR = Path('.').absolute().joinpath(r'data/YOC')\n",
    "# INPUT_FILE = INTPUT_DIR.joinpath('annual_max_1998_2020.csv')\n",
    "# YLABEL, XLABEL = 'Chla [mg m$^{-3}$]', 'Day$_{Max}$'\n",
    "\n",
    "INTPUT_DIR = Path('.').absolute().joinpath(r'data')\n",
    "INPUT_FILE = INTPUT_DIR.joinpath('ee-chart.csv')\n",
    "YLABEL, XLABEL = 'chlor_a', 'system:time_start'"
   ]
  },
  {
   "cell_type": "markdown",
   "id": "5464191d",
   "metadata": {
    "slideshow": {
     "slide_type": "slide"
    }
   },
   "source": [
    "# 4. Trend detection\n",
    "[Return to the \"Table of contents\"](#Table-of-contents)\n",
    "- Start with a simple linear trend model"
   ]
  },
  {
   "cell_type": "code",
   "execution_count": 4,
   "id": "014ea085",
   "metadata": {},
   "outputs": [
    {
     "data": {
      "text/html": [
       "<div>\n",
       "<style scoped>\n",
       "    .dataframe tbody tr th:only-of-type {\n",
       "        vertical-align: middle;\n",
       "    }\n",
       "\n",
       "    .dataframe tbody tr th {\n",
       "        vertical-align: top;\n",
       "    }\n",
       "\n",
       "    .dataframe thead th {\n",
       "        text-align: right;\n",
       "    }\n",
       "</style>\n",
       "<table border=\"1\" class=\"dataframe\">\n",
       "  <thead>\n",
       "    <tr style=\"text-align: right;\">\n",
       "      <th></th>\n",
       "      <th>system:time_start</th>\n",
       "      <th>Trend</th>\n",
       "      <th>chlor_a</th>\n",
       "    </tr>\n",
       "  </thead>\n",
       "  <tbody>\n",
       "    <tr>\n",
       "      <th>0</th>\n",
       "      <td>Jan 1, 2003</td>\n",
       "      <td>0.667</td>\n",
       "      <td>0.714</td>\n",
       "    </tr>\n",
       "    <tr>\n",
       "      <th>1</th>\n",
       "      <td>Jan 1, 2004</td>\n",
       "      <td>0.693</td>\n",
       "      <td>0.553</td>\n",
       "    </tr>\n",
       "    <tr>\n",
       "      <th>2</th>\n",
       "      <td>Jan 1, 2005</td>\n",
       "      <td>0.731</td>\n",
       "      <td>0.801</td>\n",
       "    </tr>\n",
       "    <tr>\n",
       "      <th>3</th>\n",
       "      <td>Jan 1, 2006</td>\n",
       "      <td>0.741</td>\n",
       "      <td>0.800</td>\n",
       "    </tr>\n",
       "    <tr>\n",
       "      <th>4</th>\n",
       "      <td>Jan 1, 2007</td>\n",
       "      <td>0.765</td>\n",
       "      <td>0.575</td>\n",
       "    </tr>\n",
       "  </tbody>\n",
       "</table>\n",
       "</div>"
      ],
      "text/plain": [
       "  system:time_start  Trend  chlor_a\n",
       "0       Jan 1, 2003  0.667    0.714\n",
       "1       Jan 1, 2004  0.693    0.553\n",
       "2       Jan 1, 2005  0.731    0.801\n",
       "3       Jan 1, 2006  0.741    0.800\n",
       "4       Jan 1, 2007  0.765    0.575"
      ]
     },
     "execution_count": 4,
     "metadata": {},
     "output_type": "execute_result"
    }
   ],
   "source": [
    "# Read data\n",
    "df = pd.read_csv(INPUT_FILE)\n",
    "df.head()"
   ]
  },
  {
   "cell_type": "code",
   "execution_count": 5,
   "id": "2a422459",
   "metadata": {},
   "outputs": [
    {
     "data": {
      "text/plain": [
       "<AxesSubplot:xlabel='system:time_start'>"
      ]
     },
     "execution_count": 5,
     "metadata": {},
     "output_type": "execute_result"
    },
    {
     "data": {
      "image/png": "[encoded data removed]",
      "text/plain": [
       "<Figure size 432x288 with 1 Axes>"
      ]
     },
     "metadata": {
      "needs_background": "light"
     },
     "output_type": "display_data"
    }
   ],
   "source": [
    "# Display the annual max time series\n",
    "df['date'] = [d.toordinal() for d in pd.to_datetime(df['system:time_start'])]\n",
    "df.plot(y=YLABEL, x=XLABEL, marker='o')"
   ]
  },
  {
   "cell_type": "markdown",
   "id": "e0beed32",
   "metadata": {
    "slideshow": {
     "slide_type": "slide"
    }
   },
   "source": [
    "- Get the trend and display the result  \n",
    "Using simple linear simple linear regression we produce the line of best fit"
   ]
  },
  {
   "cell_type": "code",
   "execution_count": 6,
   "id": "c31b3ce3",
   "metadata": {},
   "outputs": [
    {
     "data": {
      "text/plain": [
       "[<matplotlib.lines.Line2D at 0x7fa5901f21c0>]"
      ]
     },
     "execution_count": 6,
     "metadata": {},
     "output_type": "execute_result"
    },
    {
     "data": {
      "image/png": "[encoded data removed]",
      "text/plain": [
       "<Figure size 432x288 with 1 Axes>"
      ]
     },
     "metadata": {
      "needs_background": "light"
     },
     "output_type": "display_data"
    }
   ],
   "source": [
    "f = np.poly1d(np.polyfit(df['date'], df[YLABEL], 1))\n",
    "x = np.sort(df['date'])\n",
    "m, b = f.coeffs\n",
    "yp = m * x + b\n",
    "\n",
    "fig, ax = plt.subplots()\n",
    "df.plot(y=YLABEL, x=XLABEL, marker='o', ax=ax)\n",
    "ax.plot(df[XLABEL], yp)"
   ]
  },
  {
   "cell_type": "markdown",
   "id": "3b84248f",
   "metadata": {
    "slideshow": {
     "slide_type": "slide"
    }
   },
   "source": [
    "#### Now we check the significance of the Regression Slope   \n",
    "$t_{stat} = \\frac{m}{SM} $  \n",
    "\n",
    "$SM=\\frac{S_{yx}} {s_x \\sqrt(n-1)}$\n",
    "> $m:$ slope  \n",
    "> $SM:$ standard error of the slope\n",
    "\n",
    "We check whether the slope of our sample differs in a statistically significant way from the theoretical expectation."
   ]
  },
  {
   "cell_type": "code",
   "execution_count": 7,
   "id": "078368fd",
   "metadata": {},
   "outputs": [
    {
     "name": "stdout",
     "output_type": "stream",
     "text": [
      "slope: 0.0001\n",
      "t-statistic: 2.4446\n",
      "t-critical: 2.1199\n",
      "pvalue: 0.0265\n"
     ]
    }
   ],
   "source": [
    "result = util.lsq_fity(x=df['date'], y=df[YLABEL], alpha=0.05)\n",
    "\n",
    "print(f'slope: {result.m:.4f}\\nt-statistic: {result.t_stat:.4f}\\n'\n",
    "      f't-critical: {result.t_crit:.4f}\\npvalue: {result.p:.4f}')"
   ]
  },
  {
   "cell_type": "markdown",
   "id": "6b623497",
   "metadata": {
    "slideshow": {
     "slide_type": "slide"
    }
   },
   "source": [
    "[Return to the \"Table of contents\"](#Table-of-contents)\n",
    "- Get trend using Sen's slope method\n",
    "- Sen's slope method uses the Mann-Kendall test to check the significance of detected slope\n",
    "> The Mann-Kendall Trend Test analyzes difference in signs between earlier and later data points $\\frac{n(n – 1)}{2}$.   \n",
    "> if $n = 8: \\frac{8*(8-1)}{2} = 28$, so 28 pairs will be analysed"
   ]
  },
  {
   "cell_type": "code",
   "execution_count": 8,
   "id": "3dba5eae",
   "metadata": {},
   "outputs": [
    {
     "name": "stdout",
     "output_type": "stream",
     "text": [
      "slope: 0.000070\n",
      "z-score: 2.0454\n",
      "z-critical: 1.9600\n",
      "pvalue: 0.0102\n"
     ]
    }
   ],
   "source": [
    "slope = util.sen_slope(x=df['date'], y=df[YLABEL])\n",
    "result = util.mktest(x=df['date'], y=df[YLABEL], alpha=0.05)\n",
    "\n",
    "print(f'slope: {slope:.6f}\\nz-score: {result.z_score:.4f}\\n'\n",
    "      f'z-critical: {result.z_crit:.4f}\\npvalue: {result.p:.4f}')"
   ]
  },
  {
   "cell_type": "code",
   "execution_count": 9,
   "id": "073927a1",
   "metadata": {},
   "outputs": [
    {
     "data": {
      "text/plain": [
       "<matplotlib.legend.Legend at 0x7fa5a21c6760>"
      ]
     },
     "execution_count": 9,
     "metadata": {},
     "output_type": "execute_result"
    },
    {
     "data": {
      "image/png": "[encoded data removed]",
      "text/plain": [
       "<Figure size 720x432 with 1 Axes>"
      ]
     },
     "metadata": {
      "needs_background": "light"
     },
     "output_type": "display_data"
    }
   ],
   "source": [
    "fig, ax = plt.subplots(figsize=(10, 6))\n",
    "df.plot(y=YLABEL, x=XLABEL, marker='o', ax=ax)\n",
    "\n",
    "ax.plot(df[XLABEL], yp, label='least squares') # from least squares\n",
    "ys = result.m * x + result.b\n",
    "ax.plot(df[XLABEL], ys, label=\"Sen's method\") # from Sen's method\n",
    "plt.legend()"
   ]
  },
  {
   "cell_type": "markdown",
   "id": "f4a0f858",
   "metadata": {},
   "source": [
    "- Estimate temporal trends for a series of satellite images   \n",
    "> We use a pre-prepared file with annual max data from 1998 to 2020.   \n",
    "> You can download the YOC data for the same period and use the methods introduced above to create the same file."
   ]
  },
  {
   "cell_type": "code",
   "execution_count": 10,
   "id": "dc304403",
   "metadata": {},
   "outputs": [
    {
     "data": {
      "text/plain": [
       "['amax_1998',\n",
       " 'amaxDay_1998',\n",
       " 'amax_1999',\n",
       " 'amaxDay_1999',\n",
       " 'amax_2000',\n",
       " 'amaxDay_2000',\n",
       " 'amax_2001',\n",
       " 'amaxDay_2001',\n",
       " 'amax_2002',\n",
       " 'amaxDay_2002',\n",
       " 'amax_2003',\n",
       " 'amaxDay_2003',\n",
       " 'amax_2004',\n",
       " 'amaxDay_2004',\n",
       " 'amax_2005',\n",
       " 'amaxDay_2005',\n",
       " 'amax_2006',\n",
       " 'amaxDay_2006',\n",
       " 'amax_2007',\n",
       " 'amaxDay_2007',\n",
       " 'amax_2008',\n",
       " 'amaxDay_2008',\n",
       " 'amax_2009',\n",
       " 'amaxDay_2009',\n",
       " 'amax_2010',\n",
       " 'amaxDay_2010',\n",
       " 'amax_2011',\n",
       " 'amaxDay_2011',\n",
       " 'amax_2012',\n",
       " 'amaxDay_2012',\n",
       " 'amax_2013',\n",
       " 'amaxDay_2013',\n",
       " 'amax_2014',\n",
       " 'amaxDay_2014',\n",
       " 'amax_2015',\n",
       " 'amaxDay_2015',\n",
       " 'amax_2016',\n",
       " 'amaxDay_2016',\n",
       " 'amax_2017',\n",
       " 'amaxDay_2017',\n",
       " 'amax_2018',\n",
       " 'amaxDay_2018',\n",
       " 'amax_2019',\n",
       " 'amaxDay_2019',\n",
       " 'amax_2020',\n",
       " 'amaxDay_2020']"
      ]
     },
     "execution_count": 10,
     "metadata": {},
     "output_type": "execute_result"
    }
   ],
   "source": [
    "file = INTPUT_DIR.joinpath(r'YOC/month/YOC.1998_2020_amax.nc')\n",
    "keys = util.get_nc_keys(file=file) # check the key names found in the file\n",
    "keys"
   ]
  },
  {
   "cell_type": "code",
   "execution_count": 11,
   "id": "eb8b5a3a",
   "metadata": {},
   "outputs": [],
   "source": [
    "import re"
   ]
  },
  {
   "cell_type": "code",
   "execution_count": 12,
   "id": "29a18c83",
   "metadata": {},
   "outputs": [],
   "source": [
    "xkeys = re.findall('amaxDay.*', '\\n'.join(keys)) # separate between data and day of max occurence\n",
    "ykeys = re.findall('amax_.*', '\\n'.join(keys))"
   ]
  },
  {
   "cell_type": "code",
   "execution_count": 13,
   "id": "ff4b3825",
   "metadata": {},
   "outputs": [
    {
     "name": "stdout",
     "output_type": "stream",
     "text": [
      "CPU times: user 1.53 s, sys: 55.3 ms, total: 1.59 s\n",
      "Wall time: 1.59 s\n"
     ]
    }
   ],
   "source": [
    "%%time\n",
    "xdata = util.preallocate(file=file, varname=xkeys[0], t=len(xkeys)).astype(np.int64)\n",
    "ydata = util.preallocate(file=file, varname=ykeys[0], t=len(ykeys))\n",
    "\n",
    "# load all data\n",
    "for i, (xkey, ykey, y) in enumerate(zip(xkeys, ykeys, range(1998, 2021))):\n",
    "    tdata = util.nc_reader(file=file, var=xkey)\n",
    "    xdata[i, :, :] = tdata + datetime(y, 1, 1).toordinal()\n",
    "    ydata[i, :, :] = util.nc_reader(file=file, var=ykey)\n",
    "    \n",
    "#     print(xdata[i, :, :].min(), end='|')"
   ]
  },
  {
   "cell_type": "code",
   "execution_count": 14,
   "id": "01546d6f",
   "metadata": {},
   "outputs": [
    {
     "name": "stdout",
     "output_type": "stream",
     "text": [
      "Row 165 | Col: 164 100.0% |██████████████████████████████████████████████████| 27391/27390\n",
      "Done!\n",
      "CPU times: user 17.2 s, sys: 2.73 s, total: 20 s\n",
      "Wall time: 19.9 s\n"
     ]
    }
   ],
   "source": [
    "%%time\n",
    "# estimate the trends at each pixel location\n",
    "shape = xdata[0, :, :].shape\n",
    "slope = np.ma.ones(shape=shape, dtype=np.float32) * -999\n",
    "slope.mask = True\n",
    "pval = slope.copy()\n",
    "\n",
    "t = shape[0] * shape[1]\n",
    "c = 1\n",
    "\n",
    "for i in range(shape[0]):\n",
    "    for j in range(shape[1]):\n",
    "        c += 1\n",
    "        \n",
    "        block = int(50 * c // t)\n",
    "        bar = '█' * block + '-' * (50 - block)\n",
    "        print(f'\\rRow {i:3} | Col: {j:3} {(100 * c / t):.1f}% |{bar}| {c}/{t}', end='')\n",
    "        \n",
    "        check = np.ma.compressed(ydata[:, i, j])\n",
    "        if check.size == 0:\n",
    "            continue\n",
    "            \n",
    "        x = xdata[:, i, j]\n",
    "        y = ydata[:, i, j]\n",
    "        \n",
    "        msk = x.mask | y.mask\n",
    "        x = x[~msk].flatten()\n",
    "        y = y[~msk].flatten()\n",
    "        \n",
    "        m = util.sen_slope(x=x, y=y)\n",
    "        result = util.mktest(x=x, y=y, alpha=0.05)\n",
    "        if np.isnan(m) or np.isinf(m):\n",
    "            continue\n",
    "            \n",
    "        slope[i, j] = m\n",
    "        pval[i, j] = result.p\n",
    "        \n",
    "print('\\nDone!')"
   ]
  },
  {
   "cell_type": "code",
   "execution_count": 15,
   "id": "2b6060e5",
   "metadata": {},
   "outputs": [
    {
     "data": {
      "image/png": "[encoded data removed]",
      "text/plain": [
       "<Figure size 576x720 with 2 Axes>"
      ]
     },
     "metadata": {
      "needs_background": "light"
     },
     "output_type": "display_data"
    }
   ],
   "source": [
    "fig, ax = plt.subplots(figsize=(8, 10))\n",
    "\n",
    "lon = util.nc_reader(file, var='lon')\n",
    "lat = util.nc_reader(file, var='lat')\n",
    "\n",
    "# mask non-significant values\n",
    "mask = pval > 0.05\n",
    "slp = np.ma.where(slope > 0, 2.5, slope)\n",
    "slp = np.ma.where(mask | (slp == 0), 1.5, slp)\n",
    "slp = np.ma.where(slp < 0, 0.5, slp)\n",
    "\n",
    "# for slope\n",
    "cmap = util.get_cmap()\n",
    "bounds = np.linspace(0, 3, 4)\n",
    "norm = colors.BoundaryNorm(boundaries=bounds, ncolors=256)\n",
    "ms = ax.pcolormesh(lon, lat, slp, cmap=cmap, norm=norm)\n",
    "cb = plt.colorbar(ms, ax=ax, orientation='horizontal')\n",
    "cb.set_ticks([0.5, 1.5, 2.5])\n",
    "cb.set_ticklabels(['D', 'N', 'I'])\n"
   ]
  },
  {
   "cell_type": "markdown",
   "id": "99cfb38a",
   "metadata": {
    "slideshow": {
     "slide_type": "slide"
    }
   },
   "source": [
    "<div class=\"alert alert-block alert-success\"/div>\n",
    "    <b>Done!</b><br>\n",
    "  \n",
    "--- \n",
    "\n",
    "#### And thank you for your attention! :)\n",
    "    We hope you enjoyed the training provided by NOWPAP CEARAC."
   ]
  },
  {
   "cell_type": "markdown",
   "id": "a0588868",
   "metadata": {
    "slideshow": {
     "slide_type": "slide"
    }
   },
   "source": [
    "# 5. Resources\n",
    "[Go back to the \"Table of contents\"](#Table-of-contents)\n",
    "\n",
    "1. https://matplotlib.org/stable/tutorials/advanced/path_tutorial.html\n",
    "2. https://ocean.nowpap3.go.jp/?page_id=862\n",
    "3. https://docs.scipy.org/doc/scipy/reference/tutorial/stats.html\n",
    "4. https://up-rs-esp.github.io/mkt/\n",
    "6. https://github.com/npec/5th-NOWPAP-Training-Course-on-Remote-Sensing-Data-Analysis"
   ]
  }
 ],
 "metadata": {
  "celltoolbar": "Slideshow",
  "kernelspec": {
   "display_name": "Python 3 (ipykernel)",
   "language": "python",
   "name": "python3"
  },
  "language_info": {
   "codemirror_mode": {
    "name": "ipython",
    "version": 3
   },
   "file_extension": ".py",
   "mimetype": "text/x-python",
   "name": "python",
   "nbconvert_exporter": "python",
   "pygments_lexer": "ipython3",
   "version": "3.9.7"
  }
 },
 "nbformat": 4,
 "nbformat_minor": 5
}
