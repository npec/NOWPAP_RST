{
 "cells": [
  {
   "cell_type": "markdown",
   "id": "5e8631b7",
   "metadata": {
    "slideshow": {
     "slide_type": "slide"
    }
   },
   "source": [
    "<img src=\"../images/5thNRST_logo.png\" alt=\"NOWPAP\" width=\"900\" height=\"700\">\n",
    "\n",
    "## NOWPAP REMOTE SENSING TRAINING COURSE   \n",
    "#### Webinar 2: Monitoring and Assessment of Water Quality by Ocean Color Remote Sensing\n",
    "<span style=\"color:brown; font-size:1.1em;font-style:italic\">Time series analysis: data download</span>\n",
    "\n",
    "<hr style=\"border:2px solid rgb(30,70,125)\"> </hr>\n",
    "\n",
    "<span style=\"font-family:Helvieta; font-size:2em;\">Genki Terauchi and Eligio Maure </span>\n",
    "\n",
    "<span style=\"font-family:Helvieta; font-size:1em;\">Please contact terauchi@npec.or.jp for inquiries. </span>"
   ]
  },
  {
   "cell_type": "markdown",
   "id": "6213e392",
   "metadata": {
    "slideshow": {
     "slide_type": "subslide"
    }
   },
   "source": [
    "***\n",
    "**Note 1**: Execute each cell through the <button class=\"btn btn-default btn-xs\"><i class=\"icon-play fa fa-play\"></i></button> button from the top MENU (or keyboard shortcut `Shift` + `Enter`).<br>\n",
    "<br>\n",
    "**Note 2**: If, for any reason, the kernel is not working anymore, in the top MENU, click on the <button class=\"btn btn-default btn-xs\"><i class=\"fa fa-repeat icon-repeat\"></i></button> button. Then, in the top MENU, click on \"Cell\" and select \"Run All Above Selected Cell\".<br>\n",
    "***"
   ]
  },
  {
   "cell_type": "markdown",
   "id": "357bedc8",
   "metadata": {
    "slideshow": {
     "slide_type": "slide"
    }
   },
   "source": [
    "# Table of contents\n",
    "- [1. Purpose](#1.-Purpose)\n",
    "- [2. Library import](#2.-Library-import)\n",
    "- [3. Define parameters](#3.-Define-parameters)\n",
    "- [4. Trend detection](#4.-Trend-detection)\n",
    "- [6. Resources](#6.-Resources)\n",
    "***"
   ]
  },
  {
   "cell_type": "markdown",
   "id": "855dd9f5",
   "metadata": {
    "slideshow": {
     "slide_type": "slide"
    }
   },
   "source": [
    "# 1. Purpose\n",
    "[Return to the \"Table of contents\"](#Table-of-contents)\n",
    "\n",
    "The objective of this exercise is to learn how to extract the mean of a point or region from a series of satellite images.  \n",
    "The images used are obtained from the [Marine Environmental Watch](https://ocean.nowpap3.go.jp/?page_id=862) of Northwest Pacific Action Plan (NOWPAP).\n",
    "\n",
    "***"
   ]
  },
  {
   "cell_type": "markdown",
   "id": "faa21d18",
   "metadata": {
    "slideshow": {
     "slide_type": "slide"
    }
   },
   "source": [
    "# 2. Library import\n",
    "[Return to the \"Table of contents\"](#Table-of-contents)"
   ]
  },
  {
   "cell_type": "code",
   "execution_count": null,
   "id": "89f10c9d",
   "metadata": {
    "tags": []
   },
   "outputs": [],
   "source": [
    "# Data manipulation\n",
    "import pandas as pd\n",
    "import numpy as np\n",
    "from scipy import stats\n",
    "from datetime import datetime\n",
    "\n",
    "# System\n",
    "import sys\n",
    "from pathlib import Path\n",
    "\n",
    "# Visualization\n",
    "import matplotlib.pyplot as plt\n",
    "from matplotlib import colors, ticker\n",
    "\n",
    "import warnings #Import library to control warning messages\n",
    "warnings.filterwarnings('ignore') #Import library to control warning messages\n",
    "#For displaying images in jyputer notebook\n",
    "%matplotlib inline "
   ]
  },
  {
   "cell_type": "code",
   "execution_count": null,
   "id": "9dcafdf4",
   "metadata": {
    "tags": []
   },
   "outputs": [],
   "source": [
    "sys.path.append(str(Path('.').absolute().parent)) ##Get current path location\n",
    "import sutilsx as util #Import NPEC prepared utilities to process and analyze images\n",
    "\n",
    "util.mpl_custom(mpl=plt) #To let util to specify object for matplib "
   ]
  },
  {
   "cell_type": "markdown",
   "id": "1f2625ed",
   "metadata": {
    "slideshow": {
     "slide_type": "slide"
    }
   },
   "source": [
    "# 3. Define parameters\n",
    "[Return to the \"Table of contents\"](#Table-of-contents)"
   ]
  },
  {
   "cell_type": "code",
   "execution_count": null,
   "id": "4c9ecb1d",
   "metadata": {
    "tags": []
   },
   "outputs": [],
   "source": [
    "# INTPUT_DIR = Path('.').absolute().joinpath(r'data/YOC')\n",
    "# INPUT_FILE = INTPUT_DIR.joinpath('annual_max_1998_2020.csv')\n",
    "# YLABEL, XLABEL = 'Chla [mg m$^{-3}$]', 'Day$_{Max}$'\n",
    "\n",
    "INTPUT_DIR = Path('.').absolute().joinpath(r'data')\n",
    "INPUT_FILE = INTPUT_DIR.joinpath('ee-chart.csv')\n",
    "YLABEL, XLABEL = 'chlor_a', 'system:time_start'"
   ]
  },
  {
   "cell_type": "markdown",
   "id": "5464191d",
   "metadata": {
    "slideshow": {
     "slide_type": "slide"
    }
   },
   "source": [
    "# 4. Trend detection\n",
    "[Return to the \"Table of contents\"](#Table-of-contents)\n",
    "- Start with a simple linear trend model"
   ]
  },
  {
   "cell_type": "code",
   "execution_count": null,
   "id": "014ea085",
   "metadata": {
    "tags": []
   },
   "outputs": [],
   "source": [
    "# Read data\n",
    "df = pd.read_csv(INPUT_FILE)\n",
    "df.head()"
   ]
  },
  {
   "cell_type": "code",
   "execution_count": null,
   "id": "2a422459",
   "metadata": {
    "tags": []
   },
   "outputs": [],
   "source": [
    "# Display the annual max time series\n",
    "df['date'] = [d.toordinal() for d in pd.to_datetime(df['system:time_start'])]\n",
    "df.plot(y=YLABEL, x=XLABEL, marker='o')"
   ]
  },
  {
   "cell_type": "markdown",
   "id": "e0beed32",
   "metadata": {
    "slideshow": {
     "slide_type": "slide"
    }
   },
   "source": [
    "- Get the trend and display the result  \n",
    "Using simple linear simple linear regression we produce the line of best fit"
   ]
  },
  {
   "cell_type": "code",
   "execution_count": null,
   "id": "c31b3ce3",
   "metadata": {
    "tags": []
   },
   "outputs": [],
   "source": [
    "f = np.poly1d(np.polyfit(df['date'], df[YLABEL], 1))\n",
    "x = np.sort(df['date'])\n",
    "m, b = f.coeffs\n",
    "yp = m * x + b\n",
    "\n",
    "fig, ax = plt.subplots()\n",
    "df.plot(y=YLABEL, x=XLABEL, marker='o', ax=ax)\n",
    "ax.plot(df[XLABEL], yp)"
   ]
  },
  {
   "cell_type": "markdown",
   "id": "3b84248f",
   "metadata": {
    "slideshow": {
     "slide_type": "slide"
    }
   },
   "source": [
    "#### Now we check the significance of the Regression Slope   \n",
    "$t_{stat} = \\frac{m}{SM} $  \n",
    "\n",
    "$SM=\\frac{S_{yx}} {s_x \\sqrt(n-1)}$\n",
    "> $m:$ slope  \n",
    "> $SM:$ standard error of the slope\n",
    "\n",
    "We check whether the slope of our sample differs in a statistically significant way from the theoretical expectation."
   ]
  },
  {
   "cell_type": "code",
   "execution_count": null,
   "id": "078368fd",
   "metadata": {
    "tags": []
   },
   "outputs": [],
   "source": [
    "result = util.lsq_fity(x=df['date'], y=df[YLABEL], alpha=0.05)\n",
    "\n",
    "print(f'slope: {result.m:.4f}\\nt-statistic: {result.t_stat:.4f}\\n'\n",
    "      f't-critical: {result.t_crit:.4f}\\npvalue: {result.p:.4f}')"
   ]
  },
  {
   "cell_type": "markdown",
   "id": "6b623497",
   "metadata": {
    "slideshow": {
     "slide_type": "slide"
    }
   },
   "source": [
    "[Return to the \"Table of contents\"](#Table-of-contents)\n",
    "- Get trend using Sen's slope method\n",
    "- Sen's slope method uses the Mann-Kendall test to check the significance of detected slope\n",
    "> The Mann-Kendall Trend Test analyzes difference in signs between earlier and later data points $\\frac{n(n – 1)}{2}$.   \n",
    "> if $n = 8: \\frac{8*(8-1)}{2} = 28$, so 28 pairs will be analysed"
   ]
  },
  {
   "cell_type": "code",
   "execution_count": null,
   "id": "3dba5eae",
   "metadata": {
    "tags": []
   },
   "outputs": [],
   "source": [
    "slope = util.sen_slope(x=df['date'], y=df[YLABEL])\n",
    "result = util.mktest(x=df['date'], y=df[YLABEL], alpha=0.05)\n",
    "\n",
    "print(f'slope: {slope:.6f}\\nz-score: {result.z_score:.4f}\\n'\n",
    "      f'z-critical: {result.z_crit:.4f}\\npvalue: {result.p:.4f}')"
   ]
  },
  {
   "cell_type": "code",
   "execution_count": null,
   "id": "073927a1",
   "metadata": {
    "tags": []
   },
   "outputs": [],
   "source": [
    "fig, ax = plt.subplots(figsize=(10, 6))\n",
    "df.plot(y=YLABEL, x=XLABEL, marker='o', ax=ax)\n",
    "\n",
    "ax.plot(df[XLABEL], yp, label='least squares') # from least squares\n",
    "ys = result.m * x + result.b\n",
    "ax.plot(df[XLABEL], ys, label=\"Sen's method\") # from Sen's method\n",
    "plt.legend()"
   ]
  },
  {
   "cell_type": "markdown",
   "id": "f4a0f858",
   "metadata": {},
   "source": [
    "- Estimate temporal trends for a series of satellite images   \n",
    "> We use a pre-prepared file with annual max data from 1998 to 2020.   \n",
    "> You can download the YOC data for the same period and use the methods introduced above to create the same file."
   ]
  },
  {
   "cell_type": "code",
   "execution_count": null,
   "id": "dc304403",
   "metadata": {
    "tags": []
   },
   "outputs": [],
   "source": [
    "file = INTPUT_DIR.joinpath(r'YOC/month/YOC.1998_2020_amax.nc')\n",
    "keys = util.get_nc_keys(file=file) # check the key names found in the file\n",
    "keys"
   ]
  },
  {
   "cell_type": "code",
   "execution_count": null,
   "id": "eb8b5a3a",
   "metadata": {
    "tags": []
   },
   "outputs": [],
   "source": [
    "import re"
   ]
  },
  {
   "cell_type": "code",
   "execution_count": null,
   "id": "29a18c83",
   "metadata": {
    "tags": []
   },
   "outputs": [],
   "source": [
    "xkeys = re.findall('amaxDay.*', '\\n'.join(keys)) # separate between data and day of max occurence\n",
    "ykeys = re.findall('amax_.*', '\\n'.join(keys))"
   ]
  },
  {
   "cell_type": "code",
   "execution_count": null,
   "id": "ff4b3825",
   "metadata": {
    "tags": []
   },
   "outputs": [],
   "source": [
    "%%time\n",
    "xdata = util.preallocate(file=file, varname=xkeys[0], t=len(xkeys)).astype(np.int64)\n",
    "ydata = util.preallocate(file=file, varname=ykeys[0], t=len(ykeys))\n",
    "\n",
    "# load all data\n",
    "for i, (xkey, ykey, y) in enumerate(zip(xkeys, ykeys, range(1998, 2021))):\n",
    "    tdata = util.nc_reader(file=file, var=xkey)\n",
    "    xdata[i, :, :] = tdata + datetime(y, 1, 1).toordinal()\n",
    "    ydata[i, :, :] = util.nc_reader(file=file, var=ykey)\n",
    "    \n",
    "#     print(xdata[i, :, :].min(), end='|')"
   ]
  },
  {
   "cell_type": "code",
   "execution_count": null,
   "id": "01546d6f",
   "metadata": {
    "tags": []
   },
   "outputs": [],
   "source": [
    "%%time\n",
    "# estimate the trends at each pixel location\n",
    "shape = xdata[0, :, :].shape\n",
    "slope = np.ma.ones(shape=shape, dtype=np.float32) * -999\n",
    "slope.mask = True\n",
    "pval = slope.copy()\n",
    "\n",
    "t = shape[0] * shape[1]\n",
    "c = 1\n",
    "\n",
    "for i in range(shape[0]):\n",
    "    for j in range(shape[1]):\n",
    "        c += 1\n",
    "        \n",
    "        block = int(50 * c // t)\n",
    "        bar = '█' * block + '-' * (50 - block)\n",
    "        print(f'\\rRow {i:3} | Col: {j:3} {(100 * c / t):.1f}% |{bar}| {c}/{t}', end='')\n",
    "        \n",
    "        check = np.ma.compressed(ydata[:, i, j])\n",
    "        if check.size == 0:\n",
    "            continue\n",
    "            \n",
    "        x = xdata[:, i, j]\n",
    "        y = ydata[:, i, j]\n",
    "        \n",
    "        msk = x.mask | y.mask\n",
    "        x = x[~msk].flatten()\n",
    "        y = y[~msk].flatten()\n",
    "        \n",
    "        m = util.sen_slope(x=x, y=y)\n",
    "        result = util.mktest(x=x, y=y, alpha=0.05)\n",
    "        if np.isnan(m) or np.isinf(m):\n",
    "            continue\n",
    "            \n",
    "        slope[i, j] = m\n",
    "        pval[i, j] = result.p\n",
    "        \n",
    "print('\\nDone!')"
   ]
  },
  {
   "cell_type": "code",
   "execution_count": null,
   "id": "2b6060e5",
   "metadata": {
    "tags": []
   },
   "outputs": [],
   "source": [
    "fig, ax = plt.subplots(figsize=(8, 10))\n",
    "\n",
    "lon = util.nc_reader(file, var='lon')\n",
    "lat = util.nc_reader(file, var='lat')\n",
    "\n",
    "# mask non-significant values\n",
    "mask = pval > 0.05\n",
    "slp = np.ma.where(slope > 0, 2.5, slope)\n",
    "slp = np.ma.where(mask | (slp == 0), 1.5, slp)\n",
    "slp = np.ma.where(slp < 0, 0.5, slp)\n",
    "\n",
    "# for slope\n",
    "cmap = util.get_cmap()\n",
    "bounds = np.linspace(0, 3, 4)\n",
    "norm = colors.BoundaryNorm(boundaries=bounds, ncolors=256)\n",
    "ms = ax.pcolormesh(lon, lat, slp, cmap=cmap, norm=norm)\n",
    "cb = plt.colorbar(ms, ax=ax, orientation='horizontal')\n",
    "cb.set_ticks([0.5, 1.5, 2.5])\n",
    "cb.set_ticklabels(['D', 'N', 'I'])\n"
   ]
  },
  {
   "cell_type": "markdown",
   "id": "99cfb38a",
   "metadata": {
    "slideshow": {
     "slide_type": "slide"
    }
   },
   "source": [
    "<div class=\"alert alert-block alert-success\"/div>\n",
    "    <b>Done!</b><br>\n",
    "  \n",
    "--- \n",
    "\n",
    "#### And thank you for your attention! :)\n",
    "    We hope you enjoyed the training provided by NOWPAP CEARAC."
   ]
  },
  {
   "cell_type": "markdown",
   "id": "a0588868",
   "metadata": {
    "slideshow": {
     "slide_type": "slide"
    }
   },
   "source": [
    "# 5. Resources\n",
    "[Go back to the \"Table of contents\"](#Table-of-contents)\n",
    "\n",
    "1. https://matplotlib.org/stable/tutorials/advanced/path_tutorial.html\n",
    "2. https://ocean.nowpap3.go.jp/?page_id=862\n",
    "3. https://docs.scipy.org/doc/scipy/reference/tutorial/stats.html\n",
    "4. https://up-rs-esp.github.io/mkt/\n",
    "6. https://github.com/npec/NOWPAP_RST/"
   ]
  }
 ],
 "metadata": {
  "celltoolbar": "Slideshow",
  "kernelspec": {
   "display_name": "Python 3 (ipykernel)",
   "language": "python",
   "name": "python3"
  },
  "language_info": {
   "codemirror_mode": {
    "name": "ipython",
    "version": 3
   },
   "file_extension": ".py",
   "mimetype": "text/x-python",
   "name": "python",
   "nbconvert_exporter": "python",
   "pygments_lexer": "ipython3",
   "version": "3.9.16"
  }
 },
 "nbformat": 4,
 "nbformat_minor": 5
}
