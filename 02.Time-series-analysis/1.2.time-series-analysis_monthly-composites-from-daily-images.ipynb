{
 "cells": [
  {
   "cell_type": "markdown",
   "id": "5e8631b7",
   "metadata": {
    "slideshow": {
     "slide_type": "slide"
    }
   },
   "source": [
    "\n",
    "<img src=\"../images/5thNRST_logo.png\" alt=\"NOWPAP\" width=\"900\" height=\"700\">\n",
    "\n",
    "## NOWPAP REMOTE SENSING TRAINING COURSE   \n",
    "#### Webinar 2: Monitoring and Assessment of Water Quality by Ocean Color Remote Sensing\n",
    "<span style=\"color:brown; font-size:1.1em;font-style:italic\">Time series analysis: data download</span>\n",
    "\n",
    "<hr style=\"border:2px solid rgb(30,70,125)\"> </hr>\n",
    "\n",
    "<span style=\"font-family:Helvieta; font-size:2em;\">Genki Terauchi and Eligio Maure </span>\n",
    "\n",
    "<span style=\"font-family:Helvieta; font-size:1em;\">Please contact terauchi@npec.or.jp for inquiries. </span>"
   ]
  },
  {
   "cell_type": "markdown",
   "id": "6213e392",
   "metadata": {
    "slideshow": {
     "slide_type": "slide"
    }
   },
   "source": [
    "***\n",
    "**Note 1**: Execute each cell through the <button class=\"btn btn-default btn-xs\"><i class=\"icon-play fa fa-play\"></i></button> button from the top MENU (or keyboard shortcut `Shift` + `Enter`).<br>\n",
    "<br>\n",
    "**Note 2**: If, for any reason, the kernel is not working anymore, in the top MENU, click on the <button class=\"btn btn-default btn-xs\"><i class=\"fa fa-repeat icon-repeat\"></i></button> button. Then, in the top MENU, click on \"Cell\" and select \"Run All Above Selected Cell\".<br>\n",
    "***"
   ]
  },
  {
   "cell_type": "markdown",
   "id": "357bedc8",
   "metadata": {
    "slideshow": {
     "slide_type": "slide"
    }
   },
   "source": [
    "# Table of contents\n",
    "- [1. Purpose](#1.-Purpose)\n",
    "- [2. Library import](#2.-Library-import)\n",
    "- [3. Define parameters](#3.-Define-parameters)\n",
    "- [4. Data preallocation](#4.-Data-preallocation)\n",
    "- [5. Create the composite](#5.-Create-the-composite)\n",
    "- [6. Display the result](#6.-Display-the-result)\n",
    "- [7. Save the result](#7.-Save-the-result)\n",
    "- [8. Resources](#8.-Resources)\n",
    "***"
   ]
  },
  {
   "cell_type": "markdown",
   "id": "855dd9f5",
   "metadata": {
    "slideshow": {
     "slide_type": "slide"
    }
   },
   "source": [
    "# 1. Purpose\n",
    "[Return to the \"Table of contents\"](#Table-of-contents)\n",
    "\n",
    "The objective of this exercise is to create composite images from a series of other satellite images obtained in the [Marine Environmental Watch](https://ocean.nowpap3.go.jp/?page_id=862) of Northwest Pacific Action Plan (NOWPAP).\n",
    "\n",
    "You will learn how to read, composite and display the result of your composite image.\n",
    "***"
   ]
  },
  {
   "cell_type": "markdown",
   "id": "faa21d18",
   "metadata": {
    "slideshow": {
     "slide_type": "slide"
    }
   },
   "source": [
    "# 2. Library import\n",
    "[Return to the \"Table of contents\"](#Table-of-contents)"
   ]
  },
  {
   "cell_type": "code",
   "execution_count": null,
   "id": "89f10c9d",
   "metadata": {},
   "outputs": [],
   "source": [
    "# Data manipulation\n",
    "import numpy as np #import ???? as name \"np\"\n",
    "from netCDF4 import Dataset #Import Dataset library in netCDF4 module\n",
    "\n",
    "# System\n",
    "import sys #Import basic..\n",
    "from pathlib import Path #Import Path library in pathlib module\n",
    "\n",
    "# Visualization\n",
    "import matplotlib.pyplot as plt #Import pyplot library in matplotlib\n",
    "from matplotlib import colors, ticker # Import colors and tickers in matplotlib\n",
    "\n",
    "import warnings #Import library to control warning messages\n",
    "warnings.filterwarnings('ignore') #Import library to control warning messages\n",
    "\n",
    "%matplotlib inline\n"
   ]
  },
  {
   "cell_type": "code",
   "execution_count": null,
   "id": "9dcafdf4",
   "metadata": {},
   "outputs": [],
   "source": [
    "sys.path.append(str(Path('.').absolute().parent)) ##Get current path location\n",
    "import sutilsx as util #Import NPEC prepared utilities to process and analyze images"
   ]
  },
  {
   "cell_type": "markdown",
   "id": "1f2625ed",
   "metadata": {
    "slideshow": {
     "slide_type": "slide"
    }
   },
   "source": [
    "# 3. Define parameters\n",
    "[Return to the \"Table of contents\"](#Table-of-contents)"
   ]
  },
  {
   "cell_type": "code",
   "execution_count": null,
   "id": "4c9ecb1d",
   "metadata": {},
   "outputs": [],
   "source": [
    "VAR = 'chlor_a'    # variable name\n",
    "COMP = 'month'   # composite period ('day', 'month', 'year')\n",
    "\n",
    "INTPUT_DIR = Path('.').absolute().joinpath(r'data/SGLI/day')\n",
    "OUTPUT_DIR = Path('.').absolute().joinpath(r'data/SGLI/month')\n",
    "if not OUTPUT_DIR.is_dir():\n",
    "    OUTPUT_DIR.mkdir(parents=True)\n",
    "\n",
    "INPUT_FILES = list(INTPUT_DIR.glob('GS2020*.nc')) #Specifing files for composite\n",
    "#INPUT_FILES"
   ]
  },
  {
   "cell_type": "markdown",
   "id": "baba70f0",
   "metadata": {
    "slideshow": {
     "slide_type": "slide"
    }
   },
   "source": [
    "# 4. Data preallocation\n",
    "[Return to the \"Table of contents\"](#Table-of-contents)\n",
    "- Define a function to preallocate memory for the composite"
   ]
  },
  {
   "cell_type": "code",
   "execution_count": null,
   "id": "388d56bc",
   "metadata": {},
   "outputs": [],
   "source": [
    "def preallocate(file: Path, varname: str, t: int):   #Defining function to prepare empty data allay \n",
    "    with Dataset(file, 'r') as nc:\n",
    "        shape = np.ma.squeeze(nc[varname][:]).shape\n",
    "    shape = (t,) + shape\n",
    "    return np.ma.empty(shape=shape, dtype=np.float32)"
   ]
  },
  {
   "cell_type": "markdown",
   "id": "6b623497",
   "metadata": {
    "slideshow": {
     "slide_type": "slide"
    }
   },
   "source": [
    "# 5. Create the composite\n",
    "[Return to the \"Table of contents\"](#Table-of-contents)"
   ]
  },
  {
   "cell_type": "code",
   "execution_count": null,
   "id": "e787fe5d",
   "metadata": {},
   "outputs": [],
   "source": [
    "nc = Dataset(INPUT_FILES[0], 'r') #Chekcing variable keynames in netCDF file \n",
    "nc.variables.keys()"
   ]
  },
  {
   "cell_type": "code",
   "execution_count": null,
   "id": "b666ac1e",
   "metadata": {},
   "outputs": [],
   "source": [
    "%%time\n",
    "\n",
    "# preallocate \n",
    "file = INPUT_FILES[0] # We need a file to get the shape of data\n",
    "t = len(INPUT_FILES) # we need to count the number of files to composite\n",
    "data = preallocate(file=file, t=t, varname=VAR) #data here is an emtpy data ally predifined by preallocate for monthly composite\n",
    "\n",
    "for i, f in enumerate(INPUT_FILES): #For displaying progress bar \n",
    "    block = int(50 * (i + 1) // t)\n",
    "    bar = '█' * block + '-' * (50 - block)\n",
    "    print(f'\\rDay {i + 1:2} {(100 * (i + 1) / t):.1f}% |{bar}| {i+1}/{t}', end='')\n",
    "    \n",
    "    with Dataset(f, 'r') as nc: #For aggregating variable values defined by VAR, in this case chlor_a\n",
    "        sds = nc[VAR][:]\n",
    "        data[i, :, :] = np.ma.log10(sds)\n",
    "\n",
    "count = data.count(axis=0) #For counting number of valid pixels\n",
    "count = np.ma.masked_where(count == 0, count) \n",
    "np.ma.set_fill_value(count, fill_value=sds.fill_value)\n",
    "\n",
    "mean = data.mean(axis=0).astype(np.float32) #For making monthly mean data\n",
    "mean = np.ma.power(10, mean)\n",
    "np.ma.set_fill_value(mean, fill_value=sds.fill_value)\n",
    "    \n",
    "print(f'\\nComposite done!')"
   ]
  },
  {
   "cell_type": "markdown",
   "id": "e711ac62",
   "metadata": {
    "slideshow": {
     "slide_type": "slide"
    }
   },
   "source": [
    "# 6. Display the result\n",
    "[Return to the \"Table of contents\"](#Table-of-contents)\n",
    "- Use matplotlib to display the composite image (we display both composite and count)"
   ]
  },
  {
   "cell_type": "code",
   "execution_count": null,
   "id": "0dcf4161",
   "metadata": {},
   "outputs": [],
   "source": [
    "fig, ax = plt.subplots(1,2, figsize=(20,8), sharey=True) #Creating a figure with two subplots uisng plt.sublopts() function.\n",
    "\n",
    "with Dataset(file, 'r') as nc: #Reading lattitude and longitute from netCDF files.\n",
    "    lat = nc['lat'][:]\n",
    "    lon = nc['lon'][:]\n",
    "\n",
    "# LogNorm for chlorophyll data \n",
    "norm = colors.LogNorm(vmin=0.1, vmax=10)\n",
    "m1 = ax[0].pcolormesh(lon, lat, mean, cmap='jet', norm=norm)\n",
    "\n",
    "# Linear scale for count data\n",
    "nbins = count.max() - count.min() \n",
    "levels = ticker.MaxNLocator(nbins=nbins).tick_values(count.min(), count.max())\n",
    "norm = colors.BoundaryNorm(levels, ncolors=256, clip=True)\n",
    "m2 = ax[1].pcolormesh(lon, lat, count, cmap='jet', norm=norm)\n",
    "\n",
    "ax[0].set_title('Chlorophyll-a concentration')\n",
    "plt.colorbar(m1, ax=ax[0], orientation='vertical')\n",
    "ax[1].set_title('number of valid data')\n",
    "plt.colorbar(m2, ax=ax[1], orientation='vertical')\n"
   ]
  },
  {
   "cell_type": "markdown",
   "id": "e309dc0a",
   "metadata": {
    "slideshow": {
     "slide_type": "slide"
    }
   },
   "source": [
    "# 7. Save the result \n",
    "[Return to the \"Table of contents\"](#Table-of-contents)"
   ]
  },
  {
   "cell_type": "code",
   "execution_count": null,
   "id": "32afdb18",
   "metadata": {},
   "outputs": [],
   "source": [
    "%%time\n",
    "# Create a filename to save the data\n",
    "save = OUTPUT_DIR.joinpath('CREATE-GS202004_CHL_TB_month.nc')\n",
    "\n",
    "util.nc_write(\n",
    "    file=save\n",
    "    , data=mean\n",
    "    , varname=VAR\n",
    "    , lon=lon\n",
    "    , lat=lat\n",
    "    , count=count)"
   ]
  },
  {
   "cell_type": "markdown",
   "id": "99cfb38a",
   "metadata": {},
   "source": [
    "<div class=\"alert alert-block alert-success\"/div>\n",
    "    <b>Done!</b><br>\n",
    "  \n",
    "--- \n",
    "\n",
    "#### And thank you for your attention! :) \n",
    "    Now try the same exercise with other months or sensors, etc.\n",
    "    We hope you enjoyed the training provided by NOWPAP CEARAC."
   ]
  },
  {
   "cell_type": "markdown",
   "id": "a0588868",
   "metadata": {},
   "source": [
    "# 8. Resources\n",
    "[Go back to the \"Table of contents\"](#Table-of-contents)\n",
    "1. https://unidata.github.io/netcdf4-python/\n",
    "2. https://matplotlib.org/\n",
    "3. https://ocean.nowpap3.go.jp/?page_id=2345\n",
    "4. https://github.com/npec/5th-NOWPAP-Training-Course-on-Remote-Sensing-Data-Analysis"
   ]
  }
 ],
 "metadata": {
  "celltoolbar": "Slideshow",
  "kernelspec": {
   "display_name": "Python 3 (ipykernel)",
   "language": "python",
   "name": "python3"
  },
  "language_info": {
   "codemirror_mode": {
    "name": "ipython",
    "version": 3
   },
   "file_extension": ".py",
   "mimetype": "text/x-python",
   "name": "python",
   "nbconvert_exporter": "python",
   "pygments_lexer": "ipython3",
   "version": "3.9.18"
  }
 },
 "nbformat": 4,
 "nbformat_minor": 5
}
