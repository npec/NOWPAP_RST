{
 "cells": [
  {
   "cell_type": "markdown",
   "metadata": {},
   "source": [
    "# Anaconda Install\n",
    "\n",
    "\n",
    "We use `Python` and `Jupyter notebook` for the hands-on\n",
    "\n",
    "---\n",
    "\n",
    "<p> This guide just give you the basic information to Jupyter notebook installed on your system. It is not a full account of how to install or troubleshoot the installion. A few resources that can help in case a problem is encountered are included. These resources also point to system specific installation procedures. In the case of windows, the images below indicate how anaconda appears after being installed in Windows 10.</p>\n",
    "\n",
    "Visit the [Anaconda page](https://www.anaconda.com/products/individual) and download your OS specific setup\n",
    "Select the appropriate OS, e.g. ```Python 3.7 64-Bit Graphical Installer (Windows or MacOS) or 64-Bit (x86) Installer (Linux)``` See the image below </p>"
   ]
  },
  {
   "cell_type": "markdown",
   "metadata": {},
   "source": [
    "<img src=\"images/Anaconda_setups.PNG\" align=\"left\" width=\"700\" >"
   ]
  },
  {
   "cell_type": "markdown",
   "metadata": {},
   "source": [
    "For Windows or MacOS it suffices to follow the installation wizard’s defaults.   \n",
    "If you encounter any issues, visit the Anaconda documentation [page](https://docs.anaconda.com/anaconda/install/).   \n",
    "\n",
    "The documentation page includes a wealth of installation instructions for different OS. Follow [this link](https://docs.anaconda.com/anaconda/install/linux/) for instructions on Linux install\n",
    "<br />\n",
    "\n",
    "Windows: we can verify that Anaconda is installed by going to the start menu and find Anaconda3 (64-Bit) folder (see the image below)"
   ]
  },
  {
   "cell_type": "markdown",
   "metadata": {},
   "source": [
    "<img src=\"images/Anaconda_installed.PNG\" align=\"left\" width=\"250\" >"
   ]
  }
 ],
 "metadata": {
  "kernelspec": {
   "display_name": "Python 3",
   "language": "python",
   "name": "python3"
  },
  "language_info": {
   "codemirror_mode": {
    "name": "ipython",
    "version": 3
   },
   "file_extension": ".py",
   "mimetype": "text/x-python",
   "name": "python",
   "nbconvert_exporter": "python",
   "pygments_lexer": "ipython3",
   "version": "3.9.4"
  }
 },
 "nbformat": 4,
 "nbformat_minor": 4
}
