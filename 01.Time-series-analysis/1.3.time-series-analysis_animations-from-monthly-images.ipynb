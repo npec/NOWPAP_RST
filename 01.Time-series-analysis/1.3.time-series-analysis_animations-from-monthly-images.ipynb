{
 "cells": [
  {
   "cell_type": "markdown",
   "id": "5e8631b7",
   "metadata": {
    "slideshow": {
     "slide_type": "slide"
    }
   },
   "source": [
    "<img src=\"../images/5thNRST_logo.png\" alt=\"NOWPAP\" width=\"900\" height=\"700\">\n",
    "\n",
    "## NOWPAP REMOTE SENSING TRAINING COURSE   \n",
    "#### Webinar 2: Monitoring and Assessment of Water Quality by Ocean Color Remote Sensing\n",
    "<span style=\"color:brown; font-size:1.1em;font-style:italic\">Time series analysis: data download</span>\n",
    "\n",
    "<hr style=\"border:2px solid rgb(30,70,125)\"> </hr>\n",
    "\n",
    "<span style=\"font-family:Helvieta; font-size:2em;\">Genki Terauchi and Eligio Maure </span>\n",
    "\n",
    "<span style=\"font-family:Helvieta; font-size:1em;\">Please contact terauchi@npec.or.jp for inquiries. </span>"
   ]
  },
  {
   "cell_type": "markdown",
   "id": "6213e392",
   "metadata": {
    "slideshow": {
     "slide_type": "subslide"
    }
   },
   "source": [
    "***\n",
    "**Note 1**: Execute each cell through the <button class=\"btn btn-default btn-xs\"><i class=\"icon-play fa fa-play\"></i></button> button from the top MENU (or keyboard shortcut `Shift` + `Enter`).<br>\n",
    "<br>\n",
    "**Note 2**: If, for any reason, the kernel is not working anymore, in the top MENU, click on the <button class=\"btn btn-default btn-xs\"><i class=\"fa fa-repeat icon-repeat\"></i></button> button. Then, in the top MENU, click on \"Cell\" and select \"Run All Above Selected Cell\".<br>\n",
    "***"
   ]
  },
  {
   "cell_type": "markdown",
   "id": "357bedc8",
   "metadata": {
    "slideshow": {
     "slide_type": "slide"
    }
   },
   "source": [
    "# Table of contents\n",
    "- [1. Purpose](#1.-Purpose)\n",
    "- [2. Library import](#2.-Library-import)\n",
    "- [3. Define parameters](#3.-Define-parameters)\n",
    "- [4. Animation helper functions](#4.-Animation-helper-functions)\n",
    "- [5. Create the animation](#5.-Create-the-animation)\n",
    "- [6. Resources](#6.-Resources)\n",
    "***"
   ]
  },
  {
   "cell_type": "markdown",
   "id": "855dd9f5",
   "metadata": {
    "slideshow": {
     "slide_type": "slide"
    }
   },
   "source": [
    "# 1. Purpose\n",
    "[Return to the \"Table of contents\"](#Table-of-contents)\n",
    "\n",
    "The objective of this exercise is to create animations from a series of satellite images.  \n",
    "The images used are obtained from the [Marine Environmental Watch](https://ocean.nowpap3.go.jp/?page_id=862) of Northwest Pacific Action Plan (NOWPAP).\n",
    "\n",
    "You will learn how to use [matplotlib](https://matplotlib.org/) to create animations.\n",
    "***"
   ]
  },
  {
   "cell_type": "markdown",
   "id": "faa21d18",
   "metadata": {
    "slideshow": {
     "slide_type": "slide"
    }
   },
   "source": [
    "# 2. Library import\n",
    "[Return to the \"Table of contents\"](#Table-of-contents)"
   ]
  },
  {
   "cell_type": "code",
   "execution_count": null,
   "id": "89f10c9d",
   "metadata": {
    "tags": []
   },
   "outputs": [],
   "source": [
    "# Data manipulation \n",
    "import numpy as np \n",
    "\n",
    "# Library import\n",
    "from netCDF4 import Dataset, num2date\n",
    "\n",
    "# System\n",
    "import sys\n",
    "from pathlib import Path\n",
    "import natsort #Importing library for file name sorting\n",
    "\n",
    "# Visualization to handle animation\n",
    "import matplotlib.pyplot as plt  #Import pyplot library in matplotlib\n",
    "import matplotlib.animation as animation #Import animation fucntion of matplotlib\n",
    "from mpl_toolkits.axes_grid1 import make_axes_locatable \n",
    "from matplotlib import colors \n",
    "from PIL import Image #To read PNG images #Enabling Image fucction in PIL\n",
    "\n",
    "import warnings\n",
    "warnings.filterwarnings('ignore')\n",
    "# %matplotlib inline\n",
    "%matplotlib notebook"
   ]
  },
  {
   "cell_type": "code",
   "execution_count": null,
   "id": "9dcafdf4",
   "metadata": {},
   "outputs": [],
   "source": [
    "sys.path.append(str(Path('.').absolute().parent)) #importing local libraries\n",
    "import sutilsx as util\n",
    "# util.mpl_custom(mpl=plt)"
   ]
  },
  {
   "cell_type": "markdown",
   "id": "1f2625ed",
   "metadata": {
    "slideshow": {
     "slide_type": "slide"
    }
   },
   "source": [
    "# 3. Define parameters\n",
    "[Return to the \"Table of contents\"](#Table-of-contents)"
   ]
  },
  {
   "cell_type": "code",
   "execution_count": null,
   "id": "4c9ecb1d",
   "metadata": {},
   "outputs": [],
   "source": [
    "VAR = 'chlor_a'    # Defining the variable name \n",
    "\n",
    "#Defining where to read the data and output animation image\n",
    "INTPUT_DIR = Path('.').absolute().joinpath(r'data/SGLI/month') \n",
    "OUTPUT_DIR = Path('.').absolute().joinpath(r'data/SGLI/animation')\n",
    "if not OUTPUT_DIR.is_dir(): #In output directory specified by the above is not created, create directory\n",
    "    OUTPUT_DIR.mkdir(parents=True)\n",
    "\n",
    "#Listing only *png files\n",
    "INPUT_FILES = INTPUT_DIR.glob('*.png')\n",
    "\n",
    "# Sorting listed files by file names\n",
    "INPUT_FILES = natsort.natsorted(INPUT_FILES, key=lambda x: x.name)\n"
   ]
  },
  {
   "cell_type": "markdown",
   "id": "86a8eee6",
   "metadata": {
    "slideshow": {
     "slide_type": "slide"
    }
   },
   "source": [
    "I want you to use \"1.1.time-series-analysis_data-download.ipynb\" to download SGLI monthly images\n",
    "\n",
    "Define the following params\n",
    "- SY, EY = 2020, 2020\n",
    "- SM, EM = 1, 12"
   ]
  },
  {
   "cell_type": "markdown",
   "id": "f8717451",
   "metadata": {
    "slideshow": {
     "slide_type": "slide"
    }
   },
   "source": [
    "# 4. Animation helper functions\n",
    "[Return to the \"Table of contents\"](#Table-of-contents)\n",
    "- One helper function loads PNG images\n",
    "- One helper function to read and store all images"
   ]
  },
  {
   "cell_type": "code",
   "execution_count": null,
   "id": "94172505",
   "metadata": {},
   "outputs": [],
   "source": [
    "#Opennig *.png files to create animation\n",
    "def img_reader(filename):\n",
    "    return Image.open(filename)"
   ]
  },
  {
   "cell_type": "code",
   "execution_count": null,
   "id": "a6cd3840",
   "metadata": {},
   "outputs": [],
   "source": [
    "#Loading opened files to create animation\n",
    "def image_loader(image_list):\n",
    "    # start with empty list to store images \n",
    "    images = []\n",
    "    append = images.append\n",
    "    for f in image_list:\n",
    "        append(img_reader(filename=f))\n",
    "    return images"
   ]
  },
  {
   "cell_type": "markdown",
   "id": "6b623497",
   "metadata": {
    "slideshow": {
     "slide_type": "slide"
    }
   },
   "source": [
    "# 5. Create the animation\n",
    "[Return to the \"Table of contents\"](#Table-of-contents)"
   ]
  },
  {
   "cell_type": "code",
   "execution_count": null,
   "id": "b666ac1e",
   "metadata": {},
   "outputs": [],
   "source": [
    "#Deciding output file name\n",
    "filename = OUTPUT_DIR.joinpath('GS2020_CHL_TB_month.gif')\n",
    "\n",
    "#Loading input files to make animation in internal memory\n",
    "images = image_loader(image_list=INPUT_FILES)\n",
    "\n",
    "# create the gif file based on appended images\n",
    "images[0].save(filename,\n",
    "               save_all=True,\n",
    "               dpi=300,\n",
    "               append_images=images[1:],\n",
    "               duration=1000,\n",
    "               loop=0)\n",
    "\n",
    "print('Done!')\n",
    "#from IPython.display import Image\n",
    "#Image(filename=OUTPUT_DIR.joinpath(\"GS2020_CHL_TB_month.gif\"))"
   ]
  },
  {
   "cell_type": "markdown",
   "id": "9bc6d935",
   "metadata": {
    "slideshow": {
     "slide_type": "slide"
    }
   },
   "source": [
    "- We can also use netCDF files but the process is more complex"
   ]
  },
  {
   "cell_type": "code",
   "execution_count": null,
   "id": "756d75e3",
   "metadata": {},
   "outputs": [],
   "source": [
    "#Defining a function to return list of mesh for making animation with matplotlib\n",
    "def init_func():\n",
    "    return [mesh]"
   ]
  },
  {
   "cell_type": "code",
   "execution_count": null,
   "id": "b1ca1d5b",
   "metadata": {},
   "outputs": [],
   "source": [
    "#Defining a function to make a frame for making animation with matplotlib\n",
    "def update_func(i):\n",
    "    \"\"\"updates components by fixed increments/GS202001_CHL_TB_month.nc\"\"\"\n",
    "    # print(f'{i}: {input_files[i]}')\n",
    "    chl = util.nc_reader(file=input_files[i], var='chlor_a')\n",
    "    mesh = [ax.pcolormesh(lon, lat, chl, cmap='jet', norm=norm)]\n",
    "    t = util.nc_reader(file=input_files[i], var='time')[0].strftime('%b %Y')\n",
    "    ax.set_title(t)\n",
    "    return [mesh]"
   ]
  },
  {
   "cell_type": "code",
   "execution_count": null,
   "id": "0da44a85",
   "metadata": {},
   "outputs": [],
   "source": [
    "#Setting parameter to making animation with matplotlib\n",
    "\n",
    "fig, ax = plt.subplots(1, 1, figsize=(4, 3), dpi=150)\n",
    "\n",
    "input_files = list(INTPUT_DIR.glob('GS2020*.nc'))\n",
    "\n",
    "# adding\n",
    "input_files = natsort.natsorted(input_files, key=lambda x: x.name)\n",
    "print(input_files[0])\n",
    "# load data\n",
    "lat = util.nc_reader(file=input_files[0], var='lat')\n",
    "lon = util.nc_reader(file=input_files[0], var='lon')\n",
    "chl = util.nc_reader(file=input_files[0], var='chlor_a')\n",
    "t = util.nc_reader(file=input_files[0], var='time')[0].strftime('%b %Y')\n",
    "\n",
    "# norm and pcolormesh\n",
    "norm = colors.LogNorm(vmin=0.01, vmax=30)\n",
    "mesh = [ax.pcolormesh(lon, lat, chl, cmap='jet', norm=norm)]\n",
    "\n",
    "# TIME LEGEND\n",
    "ax.set_title(t)\n",
    "\n",
    "# COLORBAR\n",
    "divider = make_axes_locatable(ax)\n",
    "cax = divider.append_axes(\"right\", size=\"5%\", pad=0.05)\n",
    "cb = plt.colorbar(mesh[0], cax=cax)\n",
    "cb.set_label('CHL [mg m$^{-3}$]')\n",
    "\n",
    "# blit=True: re-draw what has changed\n",
    "# interval: Delay between frames in milliseconds.\n",
    "anim = animation.FuncAnimation(fig, update_func, \n",
    "                               init_func=init_func,\n",
    "                               frames=12,\n",
    "                               interval=1000, blit=True, repeat=True)\n",
    "fig.tight_layout()\n",
    "#plt.show()\n",
    "\n",
    "anim.save(OUTPUT_DIR.joinpath(\"GS2020_CHL_TB_month-2.gif\"))\n"
   ]
  },
  {
   "cell_type": "markdown",
   "id": "4bc9076a",
   "metadata": {
    "slideshow": {
     "slide_type": "slide"
    }
   },
   "source": [
    "- Show animation using IPython notebook display HTML class."
   ]
  },
  {
   "cell_type": "code",
   "execution_count": null,
   "id": "77355518",
   "metadata": {
    "slideshow": {
     "slide_type": "-"
    }
   },
   "outputs": [],
   "source": [
    "#HTML(anim.to_html5_video())\n",
    "from IPython.display import Image\n",
    "Image(filename=OUTPUT_DIR.joinpath(\"GS2020_CHL_TB_month-2.gif\"))\n",
    "\n"
   ]
  },
  {
   "cell_type": "markdown",
   "id": "99cfb38a",
   "metadata": {
    "slideshow": {
     "slide_type": "slide"
    }
   },
   "source": [
    "<div class=\"alert alert-block alert-success\"/div>\n",
    "    <b>Done!</b><br>\n",
    "  \n",
    "--- \n",
    "\n",
    "#### And thank you for your attention! :) \n",
    "    Now try the same exercise with other years or sensors, etc.\n",
    "    We hope you enjoyed the training provided by NOWPAP CEARAC."
   ]
  },
  {
   "cell_type": "markdown",
   "id": "a0588868",
   "metadata": {
    "slideshow": {
     "slide_type": "slide"
    }
   },
   "source": [
    "# 6. Resources\n",
    "[Go back to the \"Table of contents\"](#Table-of-contents)\n",
    "1. https://matplotlib.org/stable/api/animation_api.html\n",
    "2. https://matplotlib.org/stable/api/_as_gen/matplotlib.animation.FuncAnimation.html\n",
    "3. https://jakevdp.github.io/blog/2012/08/18/matplotlib-animation-tutorial/\n",
    "4. https://ipython.readthedocs.io/en/stable/api/generated/IPython.display.html#classes\n",
    "5. https://pillow.readthedocs.io/en/stable/\n",
    "6. https://unidata.github.io/netcdf4-python/\n",
    "7. https://ocean.nowpap3.go.jp/?page_id=862\n",
    "8. https://github.com/npec/NOWPAP_RST/"
   ]
  },
  {
   "cell_type": "code",
   "execution_count": null,
   "id": "bf3d548b-e192-4a45-bb8d-c48aed8fbe02",
   "metadata": {},
   "outputs": [],
   "source": []
  }
 ],
 "metadata": {
  "celltoolbar": "Slideshow",
  "kernelspec": {
   "display_name": "Python 3 (ipykernel)",
   "language": "python",
   "name": "python3"
  },
  "language_info": {
   "codemirror_mode": {
    "name": "ipython",
    "version": 3
   },
   "file_extension": ".py",
   "mimetype": "text/x-python",
   "name": "python",
   "nbconvert_exporter": "python",
   "pygments_lexer": "ipython3",
   "version": "3.9.16"
  }
 },
 "nbformat": 4,
 "nbformat_minor": 5
}
