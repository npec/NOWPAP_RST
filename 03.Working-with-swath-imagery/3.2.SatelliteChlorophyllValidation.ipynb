{
 "cells": [
  {
   "cell_type": "markdown",
   "metadata": {
    "slideshow": {
     "slide_type": "slide"
    }
   },
   "source": [
    "<img src=\"../images/5thNRST_logo.png\" alt=\"NOWPAP\" width=\"900\" height=\"700\">\n",
    "\n",
    "## NOWPAP REMOTE SENSING TRAINING COURSE   \n",
    "#### Webinar 2: Monitoring and Assessment of Water Quality by Ocean Color Remote Sensing\n",
    "<span style=\"color:brown; font-size:1.1em;font-style:italic\">Time series analysis: data download</span>\n",
    "\n",
    "<hr style=\"border:2px solid rgb(30,70,125)\"> </hr>\n",
    "\n",
    "<span style=\"font-family:Helvieta; font-size:2em;\">Genki Terauchi and Eligio Maure </span>\n",
    "\n",
    "<span style=\"font-family:Helvieta; font-size:1em;\">Please contact terauchi@npec.or.jp for inquiries. </span>"
   ]
  },
  {
   "cell_type": "markdown",
   "metadata": {
    "slideshow": {
     "slide_type": "slide"
    }
   },
   "source": [
    "# How to visualize data returned by the online matchup tool \n",
    "\n",
    "***\n",
    "\n",
    "<div style=\"text-align: left\"><i> 1.2 Working with swath imagery: Satellite Chlorophyll Validation </i></div>\n",
    "\n",
    "***"
   ]
  },
  {
   "cell_type": "markdown",
   "metadata": {
    "slideshow": {
     "slide_type": "-"
    }
   },
   "source": [
    "***\n",
    "**Note 1**: Execute each cell through the <button class=\"btn btn-default btn-xs\"><i class=\"icon-play fa fa-play\"></i></button> button from the top MENU (or keyboard shortcut `Shift` + `Enter`).<br>\n",
    "<br>\n",
    "**Note 2**: If, for any reason, the kernel is not working anymore, in the top MENU, click on the <button class=\"btn btn-default btn-xs\"><i class=\"fa fa-repeat icon-repeat\"></i></button> button. Then, in the top MENU, click on \"Cell\" and select \"Run All Above Selected Cell\".<br>\n",
    "***"
   ]
  },
  {
   "cell_type": "markdown",
   "metadata": {
    "slideshow": {
     "slide_type": "slide"
    }
   },
   "source": [
    "# Table of contents\n",
    "- [1. Purpose](#1.-Purpose)\n",
    "- [2. Library import](#2.-Library-import)\n",
    "- [3. Dataset](#3.-Dataset)\n",
    "- [4. Parameter definition](#4.-Parameter-definition)\n",
    "- [5. Data import](#5.-Data-import)\n",
    "    - [5.1 Variables of interest in the data (exercise n.1)](#5.1-Variables-of-interest-in-the-data-(exercise-n.1))\n",
    "    - [5.2 Exercise n.2 (with SGLI data)](#5.2-Exercise-n.2-(with-SGLI-data))\n",
    "- [6. References](#6.-References)\n",
    "***"
   ]
  },
  {
   "cell_type": "markdown",
   "metadata": {
    "slideshow": {
     "slide_type": "slide"
    }
   },
   "source": [
    "# 1. Purpose\n",
    "[Return to the \"Table of contents\"](#Table-of-contents)\n",
    "\n",
    "The objective of this exercise is to visualize the satellite data product validation results obtained from the [Online Matchup Tool](https://ocean.nowpap3.go.jp/smat/) of the [Marine Environmental Watch](https://ocean.nowpap3.go.jp/?page_id=862) of Northwest Pacific Action Plan (NOWPAP).\n",
    "\n",
    "In particular, we will display:\n",
    " \n",
    "- the comparison of satellite-derived and in-situ chlorophyll (CHL) data.\n",
    "\n",
    "The same exercise can be done for other satellite-derived geophysical values such as Remote Sensing Reflectance (Rrs), etc.\n",
    "***"
   ]
  },
  {
   "cell_type": "markdown",
   "metadata": {
    "slideshow": {
     "slide_type": "slide"
    }
   },
   "source": [
    "\n",
    "# 2. Library import\n",
    "[Return to the \"Table of contents\"](#Table-of-contents) \n",
    "\n",
    "We import all the required Python libraries.    "
   ]
  },
  {
   "cell_type": "code",
   "execution_count": null,
   "metadata": {
    "slideshow": {
     "slide_type": "-"
    },
    "tags": []
   },
   "outputs": [],
   "source": [
    "# Data manipulation\n",
    "import pandas as pd\n",
    "import numpy as np\n",
    "from datetime import datetime\n",
    "\n",
    "# System\n",
    "import sys\n",
    "from pathlib import Path\n",
    "\n",
    "# Visualizations\n",
    "import matplotlib.pyplot as plt\n",
    "import matplotlib.ticker as ticker\n",
    "\n",
    "import warnings\n",
    "warnings.filterwarnings('ignore')\n",
    "\n",
    "%matplotlib inline"
   ]
  },
  {
   "cell_type": "markdown",
   "metadata": {
    "slideshow": {
     "slide_type": "subslide"
    }
   },
   "source": [
    "We include a local library from where we import our custom fuctions.  \n",
    "To be able to do so, we append the path of where the custom functions are saved before importing.\n",
    "***"
   ]
  },
  {
   "cell_type": "code",
   "execution_count": null,
   "metadata": {
    "slideshow": {
     "slide_type": "-"
    },
    "tags": []
   },
   "outputs": [],
   "source": [
    "sys.path.append(str(Path('.').absolute().parent)) \n",
    "import sutilsx as util"
   ]
  },
  {
   "cell_type": "markdown",
   "metadata": {
    "slideshow": {
     "slide_type": "slide"
    }
   },
   "source": [
    "***\n",
    "# 3. Dataset\n",
    "[Back to the \"Table of contents\"](#Table-of-contents)"
   ]
  },
  {
   "cell_type": "markdown",
   "metadata": {
    "slideshow": {
     "slide_type": "-"
    }
   },
   "source": [
    "Two examples using MODIS-Aqua and SGLI/GCOM-C are given.  \n",
    "1. MODIS-Aqua derived CHL -> [NOMAD: NASA bio-Optical Marine Algorithm Dataset](https://seabass.gsfc.nasa.gov/wiki/NOMAD).  \n",
    "\n",
    "2. SGLI/GCOM-C CHL -> [in-situ CHL data](https://ocean.nowpap3.go.jp/?page_id=2345#42_Survey_stations_and_observation_parameters) obtained from routine observations of the Northwest Pacific Region Environmental Cooperation Center ([NPEC](http://www.npec.or.jp/en/)) in Toyama Bay, Japan.\n",
    "***"
   ]
  },
  {
   "cell_type": "markdown",
   "metadata": {
    "slideshow": {
     "slide_type": "slide"
    }
   },
   "source": [
    "# 4. Parameter definition\n",
    "[Back to the \"Table of contents\"](#Table-of-contents)   \n",
    "\n",
    "Set all relevant parameters for our notebook. \n",
    "\n",
    "By convention, parameters are uppercase, while all the other variables follow Python's guidelines (lowercase)."
   ]
  },
  {
   "cell_type": "code",
   "execution_count": null,
   "metadata": {
    "slideshow": {
     "slide_type": "-"
    },
    "tags": []
   },
   "outputs": [],
   "source": [
    "INPUT_DIR = Path('sample_data').absolute()\n",
    "OUTPUT_DIR = Path('outputs').absolute()\n",
    "\n",
    "# MODIS-Aqua validation results\n",
    "AQUA_FILE = [f for f in INPUT_DIR.glob('nomad_chlor_fluo*.matchup.csv')][0]\n",
    "\n",
    "# SGLI validation results\n",
    "SGLI_FILE = [f for f in INPUT_DIR.glob('toyama_bay_database.*.matchup.csv')][0]\n",
    "AQUA_FILE, SGLI_FILE"
   ]
  },
  {
   "cell_type": "markdown",
   "metadata": {
    "slideshow": {
     "slide_type": "slide"
    }
   },
   "source": [
    "***\n",
    "# 5. Data import\n",
    "[Return to the \"Table of contents\"](#Table-of-contents)"
   ]
  },
  {
   "cell_type": "markdown",
   "metadata": {
    "slideshow": {
     "slide_type": "-"
    }
   },
   "source": [
    "Import data using [pandas](https://pandas.pydata.org/).\n",
    "- Use pandas [`read_csv`](https://pandas.pydata.org/docs/reference/api/pandas.read_csv.html) function to load the output from the [Online Matchup Tool](https://ocean.nowpap3.go.jp/smat/).  \n",
    "\n",
    "- When reading the text file, skip header lines. \n",
    "- Using a text editor (e.g. [Notepad++](https://notepad-plus-plus.org/)) we can see the number of lines to skip."
   ]
  },
  {
   "cell_type": "code",
   "execution_count": null,
   "metadata": {
    "slideshow": {
     "slide_type": "subslide"
    },
    "tags": []
   },
   "outputs": [],
   "source": [
    "aqua_df = pd.read_csv(AQUA_FILE, skiprows=14)\n",
    "aqua_df.info()"
   ]
  },
  {
   "cell_type": "markdown",
   "metadata": {
    "slideshow": {
     "slide_type": "slide"
    }
   },
   "source": [
    "# 5.1 Variables of interest in the data (exercise n.1)\n",
    "[Return to the \"Table of contents\"](#Table-of-contents)   \n",
    "\n",
    "Define the variables of interest to be extracted from the data frame"
   ]
  },
  {
   "cell_type": "code",
   "execution_count": null,
   "metadata": {
    "slideshow": {
     "slide_type": "-"
    },
    "tags": []
   },
   "outputs": [],
   "source": [
    "# Variable names\n",
    "xvar = 'chl' # from in-situ input\n",
    "yvar = 'Median' # median of the output\n",
    "var_field = 'Variable [Units]' # the field where we extract the satellite variable of interest\n",
    "select_var = 'chlor_a [mg m^-3]' # the name of the satellite variable of interest\n",
    "\n",
    "aqua_df[var_field]"
   ]
  },
  {
   "cell_type": "markdown",
   "metadata": {
    "slideshow": {
     "slide_type": "subslide"
    }
   },
   "source": [
    "We use `Pandas` indexing to select specific data.  \n",
    "`isin` will check all variable name with `'chlor_a [mg m^-3]'` in them and return `True` or `False` depending on the result."
   ]
  },
  {
   "cell_type": "code",
   "execution_count": null,
   "metadata": {
    "slideshow": {
     "slide_type": "-"
    },
    "tags": []
   },
   "outputs": [],
   "source": [
    "idx = aqua_df[var_field].isin([select_var])"
   ]
  },
  {
   "cell_type": "markdown",
   "metadata": {
    "slideshow": {
     "slide_type": "subslide"
    }
   },
   "source": [
    "`loc` selects data at specific rows and columns of our data frame"
   ]
  },
  {
   "cell_type": "code",
   "execution_count": null,
   "metadata": {
    "slideshow": {
     "slide_type": "-"
    },
    "tags": []
   },
   "outputs": [],
   "source": [
    "x = aqua_df.loc[idx, xvar]\n",
    "y = aqua_df.loc[idx, yvar]\n",
    "x, y"
   ]
  },
  {
   "cell_type": "markdown",
   "metadata": {
    "slideshow": {
     "slide_type": "subslide"
    }
   },
   "source": [
    "Let's display the results for MODIS-Aqua"
   ]
  },
  {
   "cell_type": "code",
   "execution_count": null,
   "metadata": {
    "slideshow": {
     "slide_type": "-"
    },
    "tags": []
   },
   "outputs": [],
   "source": [
    "# initialise matplotlib figure\n",
    "fig, ax = plt.subplots(figsize=(12,9))\n",
    "\n",
    "# Display scatter\n",
    "s = 100\n",
    "ax.scatter(\n",
    "    x, y,\n",
    "    c='k',\n",
    "    marker='o',\n",
    "    alpha=0.4,\n",
    "    s=s,\n",
    ")\n",
    "\n",
    "# Set axis labels\n",
    "ax.set_xlabel('In-situ CHL [mg m$^{-3}$]')\n",
    "ax.set_ylabel(f'Satellite-derived CHL [mg m$^{{-3}}$]')\n",
    "\n",
    "# Set the scale to log\n",
    "ax.set_xscale('log')\n",
    "ax.set_yscale('log')\n",
    "\n",
    "# Set axis limits\n",
    "ax.set_xlim([0.01, 100])\n",
    "ax.set_ylim([0.01, 100])\n",
    "\n",
    "# Identity line\n",
    "util.identity_line(ax=ax, lines=[1, 2, 3])\n",
    "\n",
    "# Configure ticks\n",
    "util.logticks(ax=ax, n=2)\n",
    "            \n",
    "# overestimate\n",
    "xov, yov = util.overestimated(x=x.to_numpy(),\n",
    "                              y=y.to_numpy(), \n",
    "                              ratio=3)\n",
    "ax.scatter(xov, yov, s=s, c='r', marker='o', alpha=0.5) \n",
    "\n",
    "# underestimate\n",
    "xun, yun = util.underestimated(x=x.to_numpy(),\n",
    "                               y=y.to_numpy(), \n",
    "                               ratio=3)\n",
    "ax.scatter(xun, yun, s=s, c='b', marker='o', alpha=0.5)\n",
    "    \n",
    "# Regression line\n",
    "mask = np.isnan(x.to_numpy()) | np.isnan(y.to_numpy())\n",
    "result = util.regress(x=x.to_numpy()[~mask].flatten(),\n",
    "                      y=y.to_numpy()[~mask].flatten(), \n",
    "                      scale='log-log')\n",
    "rl = ax.plot(result.xp, result.yp, '-g', label='linear regression', lw=6)\n",
    "\n",
    "plt.legend(loc='lower right')\n",
    "ax.text(.015, 3, result.desc)\n",
    "\n",
    "# plt.title('0 m', loc='left')\n",
    "plt.tight_layout()\n",
    "day = datetime.today().strftime('%Y%m%d')\n",
    "plt.savefig(OUTPUT_DIR.joinpath(f'{day}_modis_aqua_validation'), dpi=200)"
   ]
  },
  {
   "cell_type": "markdown",
   "metadata": {
    "slideshow": {
     "slide_type": "slide"
    }
   },
   "source": [
    "<div class=\"alert alert-block alert-warning\" \\div><br\\>\n",
    "   \n",
    "# 5.2 Exercise n.2 (with SGLI data) (try it 5 min)\n",
    "\n",
    "[Return to the \"Table of contents\"](#Table-of-contents)   \n",
    "\n",
    "We can wrap the ploting into a function and then repeat the same exercise with SGLI data.  \n",
    "Such function has been defined in `sutils`, just call `util.validation(params)`"
   ]
  },
  {
   "cell_type": "code",
   "execution_count": null,
   "metadata": {
    "slideshow": {
     "slide_type": "subslide"
    },
    "tags": []
   },
   "outputs": [],
   "source": [
    "sgli_df = pd.read_csv(SGLI_FILE, skiprows=14)\n",
    "sgli_df.info()"
   ]
  },
  {
   "cell_type": "code",
   "execution_count": null,
   "metadata": {
    "slideshow": {
     "slide_type": "subslide"
    },
    "tags": []
   },
   "outputs": [],
   "source": [
    "# Variable names\n",
    "xvar = 'Chla$_{(0.5+2)}$ [mg m$^{-3}$]'\n",
    "yvar = 'Median'\n",
    "select_var = 'CHLA [mg m^-3]'\n",
    "\n",
    "idx = sgli_df[var_field].isin([select_var])\n",
    "\n",
    "x = sgli_df.loc[idx, xvar]\n",
    "y = sgli_df.loc[idx, yvar]\n",
    "\n",
    "util.validation(x=x, y=y,\n",
    "                xlabel='In-situ CHL [mg m$^{-3}$]', \n",
    "                ylabel=f'Satellite-derived CHL [mg m$^{{-3}}$]',\n",
    "                plt=plt,\n",
    "                figure_name=OUTPUT_DIR.joinpath(f'{day}_sgli_gcomc_validation'))\n",
    "x, y"
   ]
  },
  {
   "cell_type": "markdown",
   "metadata": {
    "slideshow": {
     "slide_type": "slide"
    }
   },
   "source": [
    "<div class=\"alert alert-block alert-success\"/div>\n",
    "    <b>Done!</b><br>\n",
    "  \n",
    "--- \n",
    "\n",
    "#### And thank you for your attention! :) \n",
    "    We hope you enjoyed the training provided by the Northwest Pacific Action Plan."
   ]
  },
  {
   "cell_type": "markdown",
   "metadata": {
    "slideshow": {
     "slide_type": "slide"
    }
   },
   "source": [
    "# 6. Resources\n",
    "[Go back to the \"Table of contents\"](#Table-of-contents)\n",
    "1. https://ocean.nowpap3.go.jp/smat/\n",
    "2. https://matplotlib.org/stable/api/_as_gen/matplotlib.pyplot.scatter.html\n",
    "3. https://pandas.pydata.org/docs/reference/api/pandas.read_csv.html\n",
    "4. https://ocean.nowpap3.go.jp/?page_id=862\n",
    "5. https://github.com/npec/NOWPAP_RST/"
   ]
  },
  {
   "cell_type": "code",
   "execution_count": null,
   "metadata": {},
   "outputs": [],
   "source": []
  }
 ],
 "metadata": {
  "celltoolbar": "Slideshow",
  "finalized": {
   "timestamp": 1575910822768,
   "trusted": true
  },
  "kernelspec": {
   "display_name": "Python 3 (ipykernel)",
   "language": "python",
   "name": "python3"
  },
  "language_info": {
   "codemirror_mode": {
    "name": "ipython",
    "version": 3
   },
   "file_extension": ".py",
   "mimetype": "text/x-python",
   "name": "python",
   "nbconvert_exporter": "python",
   "pygments_lexer": "ipython3",
   "version": "3.9.16"
  },
  "toc": {
   "base_numbering": 1,
   "nav_menu": {},
   "number_sections": true,
   "sideBar": true,
   "skip_h1_title": false,
   "title_cell": "Table of Contents",
   "title_sidebar": "Contents",
   "toc_cell": false,
   "toc_position": {},
   "toc_section_display": true,
   "toc_window_display": false
  }
 },
 "nbformat": 4,
 "nbformat_minor": 4
}
