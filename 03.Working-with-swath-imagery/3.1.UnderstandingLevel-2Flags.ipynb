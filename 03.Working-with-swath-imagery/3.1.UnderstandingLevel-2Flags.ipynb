{
 "cells": [
  {
   "cell_type": "markdown",
   "id": "7245c5b8",
   "metadata": {
    "slideshow": {
     "slide_type": "slide"
    }
   },
   "source": [
    "<img src=\"../images/5thNRST_logo.png\" alt=\"NOWPAP\" width=\"900\" height=\"700\">\n",
    "\n",
    "## NOWPAP REMOTE SENSING TRAINING COURSE   \n",
    "#### Webinar 2: Monitoring and Assessment of Water Quality by Ocean Color Remote Sensing\n",
    "<span style=\"color:brown; font-size:1.1em;font-style:italic\">Time series analysis: data download</span>\n",
    "\n",
    "<hr style=\"border:2px solid rgb(30,70,125)\"> </hr>\n",
    "\n",
    "<span style=\"font-family:Helvieta; font-size:2em;\">Genki Terauchi and Eligio Maure </span>\n",
    "\n",
    "<span style=\"font-family:Helvieta; font-size:1em;\">Please contact terauchi@npec.or.jp for inquiries. </span>"
   ]
  },
  {
   "cell_type": "markdown",
   "id": "5cf8e56e",
   "metadata": {
    "slideshow": {
     "slide_type": "slide"
    }
   },
   "source": [
    "***\n",
    "**Note 1**: Execute each cell through the <button class=\"btn btn-default btn-xs\"><i class=\"icon-play fa fa-play\"></i></button> button from the top MENU (or keyboard shortcut `Shift` + `Enter`).<br>\n",
    "<br>\n",
    "**Note 2**: If, for any reason, the kernel is not working anymore, in the top MENU, click on the <button class=\"btn btn-default btn-xs\"><i class=\"fa fa-repeat icon-repeat\"></i></button> button. Then, in the top MENU, click on \"Cell\" and select \"Run All Above Selected Cell\".<br>\n",
    "***"
   ]
  },
  {
   "cell_type": "markdown",
   "id": "72d9edbc",
   "metadata": {
    "slideshow": {
     "slide_type": "slide"
    }
   },
   "source": [
    "# Table of contents\n",
    "- [1. Purpose](#1.-Purpose)\n",
    "- [2. Library import](#2.-Library-import)\n",
    "- [3. Exercise with MODIS-Aqua](#3.-Exercise-with-MODIS-Aqua)\n",
    "- [4. Exercise with SGLI/GCOM-C ](#4.-Exercise-with-SGLI/GCOM-C)\n",
    "- [5. Resources](#5.-Resources)\n",
    "***"
   ]
  },
  {
   "cell_type": "markdown",
   "id": "5865bc93",
   "metadata": {
    "slideshow": {
     "slide_type": "slide"
    }
   },
   "source": [
    "# 1. Purpose\n",
    "[Return to the \"Table of contents\"](#Table-of-contents)\n",
    "\n",
    "The objective of this exercise is to explore the flags that are used to indicate quality of Level 2 Ocean Color products. \n",
    "\n",
    "These flags define the conditions that make it impossible to calculate any meaningful Level 2 parameters.\n",
    "\n",
    "You will learn how to read level 2 products and display flag information to learn about the flags that invalidate the pixels. \n",
    "***"
   ]
  },
  {
   "cell_type": "markdown",
   "id": "1f64410d",
   "metadata": {
    "slideshow": {
     "slide_type": "slide"
    }
   },
   "source": [
    "# 2. Library import   \n",
    "[Return to the \"Table of contents\"](#Table-of-contents)\n",
    "\n",
    "Start by importing require modules for data analysis   \n",
    "If a module throws a `ModuleNotFoundError` install it with the command  \n",
    "- `!pip install -r requirements.txt`"
   ]
  },
  {
   "cell_type": "code",
   "execution_count": null,
   "id": "4bf6299d",
   "metadata": {
    "tags": []
   },
   "outputs": [],
   "source": [
    "#!pip install -r ../requirements.txt"
   ]
  },
  {
   "cell_type": "code",
   "execution_count": null,
   "id": "b2a3f685",
   "metadata": {
    "slideshow": {
     "slide_type": "-"
    },
    "tags": []
   },
   "outputs": [],
   "source": [
    "# Data manipulation of handing hdf5 and netCDF file\n",
    "import numpy as np\n",
    "import h5py \n",
    "from netCDF4 import Dataset\n",
    "\n",
    "# System\n",
    "import sys\n",
    "from pathlib import Path\n",
    "\n",
    "# Visualization\n",
    "import matplotlib.pyplot as plt\n",
    "from matplotlib import colors\n",
    "import warnings\n",
    "warnings.filterwarnings('ignore')\n",
    "\n",
    "%matplotlib inline"
   ]
  },
  {
   "cell_type": "markdown",
   "id": "bf0b018b",
   "metadata": {
    "slideshow": {
     "slide_type": "slide"
    }
   },
   "source": [
    "- **Local modules**  \n",
    "Include a local library (scripts) from where we import our custom fuctions.  \n",
    "To be able to do so, we append the path of where the custom functions are saved before importing."
   ]
  },
  {
   "cell_type": "code",
   "execution_count": null,
   "id": "acdcf4fb",
   "metadata": {
    "scrolled": true,
    "slideshow": {
     "slide_type": "-"
    },
    "tags": []
   },
   "outputs": [],
   "source": [
    "#Creating path\n",
    "sys.path.append(str(Path('.').absolute().parent))\n",
    "import sutilsx as util"
   ]
  },
  {
   "cell_type": "markdown",
   "id": "41b139bf",
   "metadata": {
    "slideshow": {
     "slide_type": "slide"
    }
   },
   "source": [
    "# 3. Exercise with MODIS-Aqua\n",
    "[Return to the \"Table of contents\"](#Table-of-contents)"
   ]
  },
  {
   "cell_type": "code",
   "execution_count": null,
   "id": "37bcb8dd",
   "metadata": {
    "slideshow": {
     "slide_type": "-"
    },
    "tags": []
   },
   "outputs": [],
   "source": [
    "# Define and read data (MODIS-Aqua) level 2 data\n",
    "nc_file = Path('sample_data/A2021097040500.L2_LAC_OC.nc').absolute()\n",
    "with Dataset(nc_file, 'r') as nc:\n",
    "    lon = nc.groups['navigation_data']['longitude'][:]\n",
    "    lat = nc.groups['navigation_data']['latitude'][:]\n",
    "    flags = nc.groups['geophysical_data']['l2_flags'][:]\n",
    "    chl = nc.groups['geophysical_data']['chlor_a'][:]\n",
    "    "
   ]
  },
  {
   "cell_type": "markdown",
   "id": "9a2251bc",
   "metadata": {
    "slideshow": {
     "slide_type": "slide"
    }
   },
   "source": [
    "- **MODIS-Aqua level-2 flag meaning**"
   ]
  },
  {
   "cell_type": "markdown",
   "id": "2b3e574e",
   "metadata": {
    "slideshow": {
     "slide_type": "-"
    }
   },
   "source": [
    "\n",
    "```javascript\n",
    "flag_means = {0: 'ATMFAIL',    1: 'LAND',        2: 'PRODWARN', \n",
    "              3: 'HIGLINT',    4: 'HILT',        5: 'HISATZEN',\n",
    "              6: 'COASTZ',     7: 'SPARE',       8: 'STRAYLIGHT', \n",
    "              9: 'CLDICE',    10: 'COCCOLITH',  11: 'TURBIDW',\n",
    "              12: 'HISOLZEN', 13: 'SPARE',      14: 'LOWLW', \n",
    "              15: 'CHLFAIL',  16: 'NAVWARN',    17: 'ABSAER', \n",
    "              18: 'SPARE',    19: 'MAXAERITER', 20: 'MODGLINT', \n",
    "              21: 'CHLWARN',  22: 'ATMWARN',    23: 'SPARE',\n",
    "              24: 'SEAICE',   25: 'NAVFAIL',    26: 'FILTER', \n",
    "              27: 'SPARE',    28: 'BOWTIEDEL',  29: 'HIPOL',\n",
    "              30: 'PRODFAIL', 31: 'SPARE'};\n",
    "```"
   ]
  },
  {
   "cell_type": "markdown",
   "id": "eb6f0834",
   "metadata": {
    "slideshow": {
     "slide_type": "slide"
    }
   },
   "source": [
    "- **Define a function to retrieve the flag-bit information**"
   ]
  },
  {
   "cell_type": "code",
   "execution_count": null,
   "id": "7d417d69",
   "metadata": {
    "slideshow": {
     "slide_type": "-"
    },
    "tags": []
   },
   "outputs": [],
   "source": [
    "def get_flag_mask(bit: int, l2_flags):\n",
    "    mask = l2_flags & (1 << bit)\n",
    "    return np.ma.masked_where(mask==0, mask)"
   ]
  },
  {
   "cell_type": "markdown",
   "id": "2a7731b8",
   "metadata": {
    "slideshow": {
     "slide_type": "slide"
    }
   },
   "source": [
    "- **Explore the L2 flags**"
   ]
  },
  {
   "cell_type": "code",
   "execution_count": null,
   "id": "75bc5868",
   "metadata": {
    "slideshow": {
     "slide_type": "-"
    },
    "tags": []
   },
   "outputs": [],
   "source": [
    "bit = 3 #3 means 'HIGLINT' \n",
    "fmask = get_flag_mask(bit=bit, l2_flags=flags); \n",
    "\n",
    "fig, ax = plt.subplots(1,2, figsize=(20,8), sharey=True)\n",
    "ax[0].pcolormesh(lon, lat, fmask, cmap='jet')\n",
    "ax[1].pcolormesh(lon, lat, chl, cmap='jet', norm=colors.LogNorm())\n",
    "\n",
    "if bit != 1:\n",
    "    util.add_coastline(ax=ax[0])\n",
    "    util.add_coastline(ax=ax[1])"
   ]
  },
  {
   "cell_type": "markdown",
   "id": "5fd8c630",
   "metadata": {
    "slideshow": {
     "slide_type": "slide"
    }
   },
   "source": [
    "# 4. Exercise with SGLI/GCOM-C \n",
    "[Return to the \"Table of contents\"](#Table-of-contents)\n",
    "- Try it - 5 min"
   ]
  },
  {
   "cell_type": "markdown",
   "id": "6cfdcbc0",
   "metadata": {
    "slideshow": {
     "slide_type": "slide"
    }
   },
   "source": [
    "- **SGLI/GCOM-C level-2 flag meaning**"
   ]
  },
  {
   "cell_type": "markdown",
   "id": "c61e8ad6",
   "metadata": {
    "slideshow": {
     "slide_type": "-"
    }
   },
   "source": [
    "```javascript\n",
    "flag_means = {0: 'DATAMISS',  1: \"LAND\",\n",
    "              2: 'ATMFAIL',   3: \"CLDICE\",\n",
    "              4: \"CLDAFFCTD\", 5: \"STRAYLIGHT\",\n",
    "              6: \"HIGLINT\",   7: \"MODGLINT\",\n",
    "              8: 'HISOLZ',    9: 'HITAUA',\n",
    "              10: 'NEGNLW',   11: 'TURBIDW',\n",
    "              12: 'SHALLOW',  13: \"ITERFAILCDOM\",\n",
    "              14: 'CHLWARN',  15: 'SPARE'};\n",
    "```"
   ]
  },
  {
   "cell_type": "code",
   "execution_count": null,
   "id": "ff55dec5",
   "metadata": {
    "slideshow": {
     "slide_type": "subslide"
    },
    "tags": []
   },
   "outputs": [],
   "source": [
    "# Define and read data\n",
    "h5_file = Path('sample_data/GC1SG1_201905270131G05010_L2SG_IWPRQ_2000.h5').absolute()\n",
    "\n",
    "lat = util.navigation_data(file=h5_file, key='lat')\n",
    "lon = util.navigation_data(file=h5_file, key='lon')\n",
    "\n",
    "flags = util.h5_read(file=h5_file, key='QA_flag')\n",
    "chl = (util.h5_read(file=h5_file, key='CHLA'))"
   ]
  },
  {
   "cell_type": "code",
   "execution_count": null,
   "id": "ae8d79da",
   "metadata": {
    "slideshow": {
     "slide_type": "subslide"
    },
    "tags": []
   },
   "outputs": [],
   "source": [
    "bit = 2 # 2 means 'ATMFAIL'\n",
    "fmask = get_flag_mask(bit=bit, l2_flags=flags); \n",
    "\n",
    "fig, ax = plt.subplots(1,2, figsize=(20,8), sharey=True)\n",
    "ax[0].pcolormesh(lon, lat, fmask, cmap='jet')\n",
    "# ax[1].pcolormesh(lon, lat, chl, cmap='jet')\n",
    "ax[1].pcolormesh(lon, lat, chl, cmap='jet', norm=colors.LogNorm())\n",
    "\n",
    "if bit != 1:\n",
    "    util.add_coastline(ax=ax[0])\n",
    "    util.add_coastline(ax=ax[1])"
   ]
  },
  {
   "cell_type": "markdown",
   "id": "af223272",
   "metadata": {
    "slideshow": {
     "slide_type": "subslide"
    }
   },
   "source": [
    "<div class=\"alert alert-block alert-success\"/div>\n",
    "    <b>Done!</b><br>\n",
    "  \n",
    "--- \n",
    "\n",
    "#### And thank you for your attention! :) \n",
    "    Now try the same exercise with other sensors including GOCI, VIIRS, etc.\n",
    "    We hope you enjoyed the training provided by NOWPAP CEARAC."
   ]
  },
  {
   "cell_type": "markdown",
   "id": "87144301",
   "metadata": {
    "slideshow": {
     "slide_type": "slide"
    }
   },
   "source": [
    "# 5. Resources\n",
    "[Go back to the \"Table of contents\"](#Table-of-contents)\n",
    "1. https://oceancolor.gsfc.nasa.gov/atbd/ocl2flags/\n",
    "2. https://global.jaxa.jp/projects/sat/gcom_c/\n",
    "3. https://ocean.nowpap3.go.jp/\n",
    "4. https://github.com/npec/5th-NOWPAP-Training-Course-on-Remote-Sensing-Data-Analysis"
   ]
  },
  {
   "cell_type": "code",
   "execution_count": null,
   "id": "bcbd9d3d-c70d-4e56-8498-b193290adb06",
   "metadata": {},
   "outputs": [],
   "source": []
  },
  {
   "cell_type": "code",
   "execution_count": null,
   "id": "16c97dd0-bc4f-4958-978d-93d53f538ff4",
   "metadata": {},
   "outputs": [],
   "source": []
  }
 ],
 "metadata": {
  "celltoolbar": "Slideshow",
  "kernelspec": {
   "display_name": "Python 3 (ipykernel)",
   "language": "python",
   "name": "python3"
  },
  "language_info": {
   "codemirror_mode": {
    "name": "ipython",
    "version": 3
   },
   "file_extension": ".py",
   "mimetype": "text/x-python",
   "name": "python",
   "nbconvert_exporter": "python",
   "pygments_lexer": "ipython3",
   "version": "3.9.18"
  }
 },
 "nbformat": 4,
 "nbformat_minor": 5
}
